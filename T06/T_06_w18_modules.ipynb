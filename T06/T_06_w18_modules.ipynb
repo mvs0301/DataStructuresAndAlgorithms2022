{
 "cells": [
  {
   "cell_type": "code",
   "execution_count": 1,
   "metadata": {},
   "outputs": [
    {
     "data": {
      "text/html": [
       "﻿<STYLE>\r\n",
       " .tab_text { text-indent:40px; }\r\n",
       " .large_text { font-size:22px; }\r\n",
       " .larger_text { font-size:1em }\r\n",
       " .blue { color:#23AAFF; }\r\n",
       " .pink { color:#ebd3d7; }\r\n",
       " .green { color:green; }\r\n",
       " .stress_text { font-weight:bold }\r\n",
       " .bold_text { font-weight:bold; }\r\n",
       " .large_bold { font-size:16pt; font-weight:bold; color:#23AAFF; }\r\n",
       " .special { color:orange; font-weight:bold; }\r\n",
       " .header_2 { text-align:center; font-size:20px; }\r\n",
       " .header_4 { font-size:20px; color:green; text-indent:40px; }\r\n",
       " .header_6 { font-size:16px; font-weight:bold; color:gray }\r\n",
       "</STYLE>"
      ],
      "text/plain": [
       "<IPython.core.display.HTML object>"
      ]
     },
     "execution_count": 1,
     "metadata": {},
     "output_type": "execute_result"
    }
   ],
   "source": [
    "# стиль оформления документа\n",
    "from IPython.display import HTML\n",
    "from urllib.request import urlopen\n",
    "html = urlopen(\"file:lecture.css\")\n",
    "HTML(html.read().decode('utf-8'))"
   ]
  },
  {
   "cell_type": "markdown",
   "metadata": {},
   "source": [
    "<img src=../Img/banner.png>\n",
    "\n",
    "2 декабря 2022 года<br>\n",
    "Семинар, 11:50 - 13:10, 3-я пара<br>\n",
    "В4/3709(кк), 4-й Вешняковский проезд, 4<br>\n",
    "Группа БИ22-13\n",
    "\n",
    "Преподаватель: Смирнов Михаил Викторович, доцент Департамента Анализа данных и машинного обучения Финансового университета при Правительстве Российской Федерации\n",
    "<p style=\"font-size:150%; text-align:left\">Тема 6. Модули</p>\n"
   ]
  },
  {
   "cell_type": "markdown",
   "metadata": {},
   "source": [
    "<p style=\"font-size:150%; text-align:left\">6.1. Создание модулей</p>\n",
    "\n",
    "Модуль — это файл, содержащий определения и операторы Python. Имя файла — это имя модуля с добавленным суффиксом *.py*. Внутри модуля имя модуля (в виде строки) доступно как значение глобальной переменной `__name__`. Например, используйте свой любимый текстовый редактор, чтобы создать файл с именем *fibo.py* в текущем каталоге со следующим содержимым:\n",
    "\n",
    "```\n",
    "# Fibonacci numbers module\n",
    "\n",
    "def fib(n):    # write Fibonacci series up to n\n",
    "    a, b = 0, 1\n",
    "    while a < n:\n",
    "        print(a, end=' ')\n",
    "        a, b = b, a+b\n",
    "    print()\n",
    "\n",
    "def fib2(n):   # return Fibonacci series up to n\n",
    "    result = []\n",
    "    a, b = 0, 1\n",
    "    while a < n:\n",
    "        result.append(a)\n",
    "        a, b = b, a+b\n",
    "    return result\n",
    "```"
   ]
  },
  {
   "cell_type": "code",
   "execution_count": 2,
   "metadata": {},
   "outputs": [],
   "source": [
    "import fibo"
   ]
  },
  {
   "cell_type": "code",
   "execution_count": 7,
   "metadata": {},
   "outputs": [
    {
     "name": "stdout",
     "output_type": "stream",
     "text": [
      "0 1 1 2 3 5 8 13 21 34 55 89 144 233 377 610 987 \n",
      "[0, 1, 1, 2, 3, 5, 8, 13, 21, 34, 55, 89]\n",
      "fibo\n"
     ]
    }
   ],
   "source": [
    "fibo.fib(1000)\n",
    "\n",
    "print(fibo.fib2(100))\n",
    "\n",
    "print(fibo.__name__)"
   ]
  },
  {
   "cell_type": "markdown",
   "metadata": {},
   "source": [
    "Если вы собираетесь часто использовать функцию, вы можете присвоить ей локальное имя:"
   ]
  },
  {
   "cell_type": "code",
   "execution_count": 8,
   "metadata": {},
   "outputs": [
    {
     "name": "stdout",
     "output_type": "stream",
     "text": [
      "0 1 1 2 3 5 8 13 21 34 55 89 144 233 377 \n"
     ]
    }
   ],
   "source": [
    "fib = fibo.fib\n",
    "fib(500)"
   ]
  },
  {
   "cell_type": "markdown",
   "metadata": {},
   "source": [
    "Как вариант, можно использовать следующий способ импорта имён функций модуля:"
   ]
  },
  {
   "cell_type": "code",
   "execution_count": 10,
   "metadata": {},
   "outputs": [
    {
     "name": "stdout",
     "output_type": "stream",
     "text": [
      "0 1 1 2 3 5 8 13 21 34 55 89 144 233 377 \n"
     ]
    }
   ],
   "source": [
    "from fibo import fib, fib2\n",
    "fib(500)"
   ]
  },
  {
   "cell_type": "markdown",
   "metadata": {},
   "source": [
    "В этом случае в локальном пространстве имен определяются имена функций *fib* и *fib2* из модуля.\n",
    "\n",
    "Ещё вариант: импортируем все имена функций."
   ]
  },
  {
   "cell_type": "code",
   "execution_count": 13,
   "metadata": {},
   "outputs": [
    {
     "name": "stdout",
     "output_type": "stream",
     "text": [
      "0 1 1 2 3 5 8 13 21 34 55 89 144 233 377 \n"
     ]
    }
   ],
   "source": [
    "from fibo import *\n",
    "fib(500)"
   ]
  },
  {
   "cell_type": "markdown",
   "metadata": {},
   "source": [
    "Таким способом импортируются все имена, кроме тех, которые начинаются с подчеркивания (_).\n",
    "\n",
    "Обратите внимание, что в целом практика импорта * из модуля или пакета не одобряется, так как это часто приводит к плохо читаемому коду. Однако его можно использовать для экономии ввода в интерактивных сеансах.\n",
    "\n",
    "Если за именем модуля следует *as*, то имя, следующее за *as*, привязывается непосредственно к импортированному модулю."
   ]
  },
  {
   "cell_type": "code",
   "execution_count": 15,
   "metadata": {},
   "outputs": [
    {
     "name": "stdout",
     "output_type": "stream",
     "text": [
      "0 1 1 2 3 5 8 13 21 34 55 89 144 233 377 \n"
     ]
    }
   ],
   "source": [
    "import fibo as fb\n",
    "fb.fib(500)"
   ]
  },
  {
   "cell_type": "markdown",
   "metadata": {},
   "source": [
    "Псевдонимы также можно использовать совместно с *from*:"
   ]
  },
  {
   "cell_type": "code",
   "execution_count": 16,
   "metadata": {},
   "outputs": [
    {
     "name": "stdout",
     "output_type": "stream",
     "text": [
      "0 1 1 2 3 5 8 13 21 34 55 89 144 233 377 \n"
     ]
    }
   ],
   "source": [
    "from fibo import fib as fibonacci\n",
    "fibonacci(500)"
   ]
  },
  {
   "cell_type": "markdown",
   "metadata": {},
   "source": [
    "Примечание. Из соображений эффективности каждый модуль импортируется только один раз за сеанс интерпретатора. Поэтому, если вы меняете свои модули, вы должны перезапустить интерпретатор — или, если вы хотите протестировать только один модуль в интерактивном режиме, используйте importlib.reload(), например\n",
    "\n",
    "```\n",
    "import importlib\n",
    "importlib.reload(modulename)\n",
    "```"
   ]
  },
  {
   "cell_type": "markdown",
   "metadata": {},
   "source": [
    "<p style=\"font-size:150%; text-align:left\">6.2. Модуль как скрипт</p>"
   ]
  },
  {
   "cell_type": "markdown",
   "metadata": {},
   "source": [
    "Модуль можно запустить так:\n",
    "```\n",
    "python fibo.py <arguments>\n",
    "```\n",
    "код в модуле будет выполнен так же, как если бы вы его импортировали, но с `__name__`, установленным в `«__main__»`. Это означает, что, добавив этот код в конец вашего модуля:\n",
    "\n",
    "```\n",
    "if __name__ == \"__main__\":\n",
    "    import sys\n",
    "    fib(int(sys.argv[1]))\n",
    "```\n",
    "вы можете сделать файл пригодным для использования в качестве скрипта, а также в качестве импортируемого модуля, потому что код, анализирующий командную строку, запускается только в том случае, если модуль выполняется как «основной» файл:"
   ]
  },
  {
   "cell_type": "code",
   "execution_count": 26,
   "metadata": {},
   "outputs": [
    {
     "name": "stdout",
     "output_type": "stream",
     "text": [
      "0 1 1 2 3 5 8 13 21 34 55 \n"
     ]
    }
   ],
   "source": [
    "!python fibo.py 60"
   ]
  }
 ],
 "metadata": {
  "kernelspec": {
   "display_name": "Python 3 (ipykernel)",
   "language": "python",
   "name": "python3"
  },
  "language_info": {
   "codemirror_mode": {
    "name": "ipython",
    "version": 3
   },
   "file_extension": ".py",
   "mimetype": "text/x-python",
   "name": "python",
   "nbconvert_exporter": "python",
   "pygments_lexer": "ipython3",
   "version": "3.9.12"
  }
 },
 "nbformat": 4,
 "nbformat_minor": 4
}
