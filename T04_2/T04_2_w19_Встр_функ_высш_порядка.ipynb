{
 "cells": [
  {
   "cell_type": "code",
   "execution_count": 2,
   "metadata": {},
   "outputs": [
    {
     "data": {
      "text/html": [
       "﻿<STYLE>\r\n",
       " .tab_text { text-indent:40px; }\r\n",
       " .large_text { font-size:22px; }\r\n",
       " .larger_text { font-size:1em }\r\n",
       " .blue { color:#23AAFF; }\r\n",
       " .pink { color:#ebd3d7; }\r\n",
       " .green { color:green; }\r\n",
       " .stress_text { font-weight:bold }\r\n",
       " .bold_text { font-weight:bold; }\r\n",
       " .large_bold { font-size:16pt; font-weight:bold; color:#23AAFF; }\r\n",
       " .special { color:orange; font-weight:bold; }\r\n",
       " .header_2 { text-align:center; font-size:20px; }\r\n",
       " .header_4 { font-size:20px; color:green; text-indent:40px; }\r\n",
       " .header_6 { font-size:16px; font-weight:bold; color:gray }\r\n",
       "</STYLE>"
      ],
      "text/plain": [
       "<IPython.core.display.HTML object>"
      ]
     },
     "execution_count": 2,
     "metadata": {},
     "output_type": "execute_result"
    }
   ],
   "source": [
    "# стиль оформления документа\n",
    "from IPython.display import HTML\n",
    "from urllib.request import urlopen\n",
    "html = urlopen(\"file:lecture.css\")\n",
    "HTML(html.read().decode('utf-8'))"
   ]
  },
  {
   "cell_type": "markdown",
   "metadata": {},
   "source": [
    "<img src=../Img/banner.png>\n",
    "\n",
    "9 декабря 2022 года, пятница<br>\n",
    "Семинар, 15:40 - 17:10, 5-я пара<br>\n",
    "В4/ауд.3411(кк), 4-й Вешняковский проезд, 4<br>\n",
    "Группа БИ22-13\n",
    "\n",
    "Преподаватель: Смирнов Михаил Викторович, доцент Департамента Анализа данных и машинного обучения Финансового университета при Правительстве Российской Федерации\n",
    "<p style=\"font-size:150%; text-align:left\"> Тема 4.2. Встроенные функции высшего порядка</p>\n"
   ]
  },
  {
   "cell_type": "markdown",
   "metadata": {},
   "source": [
    "Рассмотрим функции\n",
    "\n",
    "- `map(f, *args)`\n",
    "- `filter(f, seq)`\n",
    "- `reduce(f, seq[,initial])`\n",
    "- `sorted(seq, key=None, reverse=False)`\n",
    "- `zip`"
   ]
  },
  {
   "cell_type": "markdown",
   "metadata": {},
   "source": [
    "<p style=\"font-size:150%; text-align:left\">1. map</p>\n",
    "\n",
    "`map(f, *args)` - преобразует элементы заданных последовательностей с помощью функции $f$ в новый объект, поддерживающий итерацию.\n",
    "\n",
    "Пример 1.1. Получить список длин строк для заданного списка строк."
   ]
  },
  {
   "cell_type": "code",
   "execution_count": 1,
   "metadata": {},
   "outputs": [
    {
     "data": {
      "text/plain": [
       "[2, 4, 6]"
      ]
     },
     "execution_count": 1,
     "metadata": {},
     "output_type": "execute_result"
    }
   ],
   "source": [
    "list(map(len,['aa','bbbb','cccccc']))"
   ]
  },
  {
   "cell_type": "markdown",
   "metadata": {},
   "source": [
    "Пример 1.2. Получить список, составленный из попарных произведений двух исходных списков."
   ]
  },
  {
   "cell_type": "code",
   "execution_count": 14,
   "metadata": {},
   "outputs": [
    {
     "data": {
      "text/plain": [
       "[5, 12, 21]"
      ]
     },
     "execution_count": 14,
     "metadata": {},
     "output_type": "execute_result"
    }
   ],
   "source": [
    "a = [1,2,3]\n",
    "b = [5,6,7]\n",
    "result = list(map(lambda x,y: x*y, a, b))\n",
    "result"
   ]
  },
  {
   "cell_type": "code",
   "execution_count": 71,
   "metadata": {},
   "outputs": [
    {
     "data": {
      "text/plain": [
       "[5, 12, 21]"
      ]
     },
     "execution_count": 71,
     "metadata": {},
     "output_type": "execute_result"
    }
   ],
   "source": [
    "# Альтернатива\n",
    "def mult(u,v):\n",
    "    return u*v\n",
    "\n",
    "a = [1,2,3]\n",
    "b = [5,6,7]\n",
    "list(map(mult, a, b))"
   ]
  },
  {
   "cell_type": "markdown",
   "metadata": {},
   "source": [
    "<p style=\"font-size:150%; text-align:left\">2. filter</p>\n",
    "\n",
    "`filter(f, seq)` позволяет отобрать элементы последовательности, удовлетворяющие условию. Функция *f* должна возвращать $True$ для элементов, включаемых в результат, и $False$ в противном случае. Второй параметр - исходная последовательность. Если в первом \n",
    "параметре указать значение $None$ вместо имени функции, то каждый элемент исходной последовательности будет проверен на соответствие значению True.\n",
    "\n",
    "Пример 2.1. Удалить пустые элементы из списка."
   ]
  },
  {
   "cell_type": "code",
   "execution_count": 25,
   "metadata": {},
   "outputs": [
    {
     "data": {
      "text/plain": [
       "[1, 'a', 3]"
      ]
     },
     "execution_count": 25,
     "metadata": {},
     "output_type": "execute_result"
    }
   ],
   "source": [
    "a = [1,0,'a','',[],3]\n",
    "list(filter(None,a))"
   ]
  },
  {
   "cell_type": "code",
   "execution_count": 83,
   "metadata": {},
   "outputs": [
    {
     "data": {
      "text/plain": [
       "[1, 'a', 3]"
      ]
     },
     "execution_count": 83,
     "metadata": {},
     "output_type": "execute_result"
    }
   ],
   "source": [
    "# Альтернатива\n",
    "a = [1, 0, 'a', '', [], 3]\n",
    "list(filter(lambda x: x!='' and x!=[] and x!=0, a))"
   ]
  },
  {
   "cell_type": "code",
   "execution_count": 85,
   "metadata": {},
   "outputs": [
    {
     "data": {
      "text/plain": [
       "[1, 'a', 3]"
      ]
     },
     "execution_count": 85,
     "metadata": {},
     "output_type": "execute_result"
    }
   ],
   "source": [
    "# Альтернатива\n",
    "a = [1, 0, 'a', '', [], 3]\n",
    "list(filter(lambda x: x if x!='' else 0, a))"
   ]
  },
  {
   "cell_type": "markdown",
   "metadata": {},
   "source": [
    "Пример 2.2. Убрать из списка все числа, которые при делении на 15, дают остаток 2."
   ]
  },
  {
   "cell_type": "code",
   "execution_count": 61,
   "metadata": {},
   "outputs": [
    {
     "data": {
      "text/plain": [
       "[1, 12, 15]"
      ]
     },
     "execution_count": 61,
     "metadata": {},
     "output_type": "execute_result"
    }
   ],
   "source": [
    "a=[1, 2, 12, 15, 17,32]\n",
    "list(filter(lambda x: x if x%15!=2 else 0, a))"
   ]
  },
  {
   "cell_type": "code",
   "execution_count": 63,
   "metadata": {},
   "outputs": [
    {
     "data": {
      "text/plain": [
       "[1, 12, 15]"
      ]
     },
     "execution_count": 63,
     "metadata": {},
     "output_type": "execute_result"
    }
   ],
   "source": [
    "# Альтернатива\n",
    "#2 вариант\n",
    "a = [1,2,12,15,17,32]\n",
    "list(filter(lambda x: x%15!=2, a))"
   ]
  },
  {
   "cell_type": "markdown",
   "metadata": {},
   "source": [
    "<p style=\"font-size:150%; text-align:left\">3. reduce</p>\n",
    "\n",
    "`reduce(f, seq[,initial])`. Применяет указанную функцию $f$ к парам элементов и накапливает результат. Функция $f$ должна иметь 2 параметра. При первом обращении к $f$ ее параметрами являются 2 первых элемента последовательности. При последующем обращении в качестве первого элемента используется значение, которое $f$ вернуло на предыдущем шаге, в качестве второго элемента - очередной элемент последовательности. Функция `reduce()` находится в модуле *functools*. *initial* - начальное значение, к которому добавляется результат работы *reduce*.\n",
    "\n",
    "Пример 3.1. Вычислить сумму чисел списка"
   ]
  },
  {
   "cell_type": "code",
   "execution_count": 69,
   "metadata": {},
   "outputs": [
    {
     "data": {
      "text/plain": [
       "15"
      ]
     },
     "execution_count": 69,
     "metadata": {},
     "output_type": "execute_result"
    }
   ],
   "source": [
    "from functools import reduce\n",
    "reduce(lambda x,y: x+y, [1,2,3,4,5])"
   ]
  },
  {
   "cell_type": "code",
   "execution_count": 100,
   "metadata": {},
   "outputs": [
    {
     "data": {
      "text/plain": [
       "115"
      ]
     },
     "execution_count": 100,
     "metadata": {},
     "output_type": "execute_result"
    }
   ],
   "source": [
    "reduce(lambda x,y: x+y, [1,2,3,4,5], 100)"
   ]
  },
  {
   "cell_type": "markdown",
   "metadata": {},
   "source": [
    "<p style=\"font-size:150%; text-align:left\">4. sorted</p>\n",
    "\n",
    "`sorted(seq, key=None, reverse=False)` - возвращает новый список, содержащий все элементы исходной последовательности в порядке возрастания значений элементов (по умолчанию). В параметре *key* можно указать ссылку на функцию с одним параметром, возвращающую значение. В этом случае сортировка выполняется следующим образом: для каждого элемента последовательности вычисляется значение функции, указанной в *key*. *Примечание: Метод sort() применяется только для списков.*\n",
    "\n",
    "Пример 4.1. Отсортировать список строк с использованием различных значений параметров (по возрастанию, убыванию, длине)"
   ]
  },
  {
   "cell_type": "code",
   "execution_count": 77,
   "metadata": {},
   "outputs": [
    {
     "name": "stdout",
     "output_type": "stream",
     "text": [
      "['a', 'aaa', 'bb', 'cdd', 'd']\n",
      "['d', 'cdd', 'bb', 'aaa', 'a']\n",
      "['d', 'a', 'bb', 'aaa', 'cdd']\n"
     ]
    }
   ],
   "source": [
    "l = ['aaa','bb','cdd','d','a']\n",
    "l1 = sorted(l)\n",
    "print(l1)\n",
    "\n",
    "l2 = sorted(l, reverse=True)\n",
    "print(l2)\n",
    "\n",
    "l3 = sorted(l, key=len)\n",
    "print(l3)"
   ]
  },
  {
   "cell_type": "markdown",
   "metadata": {},
   "source": [
    "Пример 4.2. Сортировать список, соджержащий слова в разных регистрах"
   ]
  },
  {
   "cell_type": "code",
   "execution_count": 97,
   "metadata": {},
   "outputs": [
    {
     "name": "stdout",
     "output_type": "stream",
     "text": [
      "['Юля', 'маМа', 'нАдЯ']\n"
     ]
    }
   ],
   "source": [
    "l = ['маМа', 'Юля', 'нАдЯ']\n",
    "print(sorted(l))"
   ]
  },
  {
   "cell_type": "markdown",
   "metadata": {},
   "source": [
    "Пример 4.3. Сортировать список, соджержащий слова в разных регистрах, не взирая на регистр."
   ]
  },
  {
   "cell_type": "code",
   "execution_count": 98,
   "metadata": {},
   "outputs": [
    {
     "name": "stdout",
     "output_type": "stream",
     "text": [
      "['маМа', 'нАдЯ', 'Юля']\n"
     ]
    }
   ],
   "source": [
    "l = ['маМа', 'Юля', 'нАдЯ']\n",
    "print(sorted(l, key=str.lower))"
   ]
  },
  {
   "cell_type": "markdown",
   "metadata": {},
   "source": [
    "<p style=\"font-size:150%; text-align:left\">5. zip</p>\n",
    "\n",
    "Функция *zip* сопоставляет соответствующие элементы коллекций, объединяя их в кортежи.\n",
    "\n",
    "Пример 5.1. Сопоставить элементы списков."
   ]
  },
  {
   "cell_type": "code",
   "execution_count": 99,
   "metadata": {},
   "outputs": [
    {
     "name": "stdout",
     "output_type": "stream",
     "text": [
      "[(1, 5), (2, 6), (3, 7)]\n"
     ]
    }
   ],
   "source": [
    "a = [1,2,3]\n",
    "b = [5,6,7]\n",
    "print(list(zip(a,b)))"
   ]
  },
  {
   "cell_type": "markdown",
   "metadata": {},
   "source": [
    "<p style=\"font-size:150%; text-align:left\"> Задачи </p>"
   ]
  },
  {
   "cell_type": "markdown",
   "metadata": {},
   "source": [
    "1. При помощи функций *map/filter/reduce* возвести в квадрат числа от 1 до 10, и рассчитать их сумму, не включая в сумму четные числа."
   ]
  },
  {
   "cell_type": "code",
   "execution_count": 1,
   "metadata": {},
   "outputs": [],
   "source": [
    "# Ваш код здесь\n",
    "\n"
   ]
  }
 ],
 "metadata": {
  "kernelspec": {
   "display_name": "Python 3 (ipykernel)",
   "language": "python",
   "name": "python3"
  },
  "language_info": {
   "codemirror_mode": {
    "name": "ipython",
    "version": 3
   },
   "file_extension": ".py",
   "mimetype": "text/x-python",
   "name": "python",
   "nbconvert_exporter": "python",
   "pygments_lexer": "ipython3",
   "version": "3.9.12"
  }
 },
 "nbformat": 4,
 "nbformat_minor": 4
}
