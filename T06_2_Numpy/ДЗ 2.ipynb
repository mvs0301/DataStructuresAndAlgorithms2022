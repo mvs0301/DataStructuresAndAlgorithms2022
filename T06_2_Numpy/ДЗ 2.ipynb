{
 "cells": [
  {
   "cell_type": "markdown",
   "id": "739a55a7",
   "metadata": {},
   "source": [
    "# Домашнее задание 2"
   ]
  },
  {
   "cell_type": "markdown",
   "id": "89818166",
   "metadata": {},
   "source": [
    "Задание 1. Создайте numpy-массив размера $3 \\times 4$ и заполните его значениями от 10 до 21."
   ]
  },
  {
   "cell_type": "code",
   "execution_count": 7,
   "id": "ab5d0bd3",
   "metadata": {},
   "outputs": [],
   "source": [
    "# Задание 1. Ваш код здесь.\n"
   ]
  },
  {
   "cell_type": "markdown",
   "id": "3cd8ab41",
   "metadata": {},
   "source": [
    "Задание 2. Создайте numpy-массив $5 \\times 5$ и разместите на главной диагонали числа $1, 2, 3, 4, 5$."
   ]
  },
  {
   "cell_type": "code",
   "execution_count": 7,
   "id": "962c82c2",
   "metadata": {},
   "outputs": [],
   "source": [
    "# Задание 2. Ваш код здесь.\n"
   ]
  },
  {
   "cell_type": "markdown",
   "id": "3d40ae8e",
   "metadata": {},
   "source": [
    "Задание 3. Создайте двумерный numpy-массив значений $x, y$ функции $y=sin(x)$ в интервале $[0, 3\\pi]$ с точностью $0.2$. С помощью matplotlib постройте график."
   ]
  },
  {
   "cell_type": "code",
   "execution_count": 8,
   "id": "081e4b51",
   "metadata": {},
   "outputs": [],
   "source": [
    "# Задание 3. Ваш код здесь.\n"
   ]
  },
  {
   "cell_type": "markdown",
   "id": "5b83e15f",
   "metadata": {},
   "source": [
    "Задание 4. Создайте numpy-массив $4 \\times 4$, а затем создайте новый numpy-массив, в котором поменяйте местами первый и последний, второй и третий столбцы."
   ]
  },
  {
   "cell_type": "code",
   "execution_count": 8,
   "id": "5ab1f479",
   "metadata": {},
   "outputs": [],
   "source": [
    "# Задание 4. Ваш код здесь.\n"
   ]
  },
  {
   "cell_type": "markdown",
   "id": "e6b37011",
   "metadata": {},
   "source": [
    "Задание 5. Создайте numpy-массив $4 \\times 4$ случайных целых чисел, затем переставьте строки и столбцы в обратном порядке."
   ]
  },
  {
   "cell_type": "code",
   "execution_count": null,
   "id": "190ef1ee",
   "metadata": {},
   "outputs": [],
   "source": [
    "# Задание 5. Ваш код здесь.\n"
   ]
  },
  {
   "cell_type": "markdown",
   "id": "14cbe16c",
   "metadata": {},
   "source": [
    "Задание 6. Напишите программу, которая дважды повторяет каждый элемент исходного массива. <br>\n",
    "Пример.<br>\n",
    "Исходные данные:\n",
    "```\n",
    "np.array([[1,2],[3,4]])\n",
    "```\n",
    "Результат:\n",
    "```\n",
    "array([1, 1, 2, 2, 3, 3, 4, 4])\n",
    "```"
   ]
  },
  {
   "cell_type": "code",
   "execution_count": null,
   "id": "8c2da401",
   "metadata": {},
   "outputs": [],
   "source": [
    "# Задание 6. Ваш код здесь.\n"
   ]
  },
  {
   "cell_type": "markdown",
   "id": "a7d37546",
   "metadata": {},
   "source": [
    "Задание 7. Напишите программу, которая в двумерном numpy-массиве $4 \\times 4$ находит индексы максимального и минимального чисел."
   ]
  },
  {
   "cell_type": "code",
   "execution_count": null,
   "id": "36fc50e6",
   "metadata": {},
   "outputs": [],
   "source": [
    "# Задание 7. Ваш код здесь.\n"
   ]
  }
 ],
 "metadata": {
  "kernelspec": {
   "display_name": "Python 3 (ipykernel)",
   "language": "python",
   "name": "python3"
  },
  "language_info": {
   "codemirror_mode": {
    "name": "ipython",
    "version": 3
   },
   "file_extension": ".py",
   "mimetype": "text/x-python",
   "name": "python",
   "nbconvert_exporter": "python",
   "pygments_lexer": "ipython3",
   "version": "3.9.12"
  }
 },
 "nbformat": 4,
 "nbformat_minor": 5
}
