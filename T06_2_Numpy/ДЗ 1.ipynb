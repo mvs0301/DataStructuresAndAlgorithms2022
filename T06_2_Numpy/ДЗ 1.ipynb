{
 "cells": [
  {
   "cell_type": "markdown",
   "id": "f9029990",
   "metadata": {},
   "source": [
    "# Домашнее задание 1"
   ]
  },
  {
   "cell_type": "markdown",
   "id": "1d884bc1",
   "metadata": {},
   "source": [
    "Задание 1. Напишите программу, которая проверяет, что ни один элемент numpy-масства не равен нулю."
   ]
  },
  {
   "cell_type": "code",
   "execution_count": null,
   "id": "0a07c0f2",
   "metadata": {},
   "outputs": [],
   "source": [
    "# Задание 1. Ваш код здесь.\n"
   ]
  },
  {
   "cell_type": "markdown",
   "id": "5429f03b",
   "metadata": {},
   "source": [
    "Задание 2. Напишите программу, которая проверяет, сколько в numpy-массиве положтительных и отрицательных чисел."
   ]
  },
  {
   "cell_type": "code",
   "execution_count": null,
   "id": "87d940c7",
   "metadata": {},
   "outputs": [],
   "source": [
    "# Задание 2. Ваш код здесь.\n"
   ]
  },
  {
   "cell_type": "markdown",
   "id": "d9e1ea2e",
   "metadata": {},
   "source": [
    "Задание 3. Напишите программу, которая попарно сравнивает элементы двух numpy-массивов и создаёт новый numpy-массив, в котором содержится результат сравнения: *больше, меньше равно*."
   ]
  },
  {
   "cell_type": "code",
   "execution_count": null,
   "id": "68ee6a04",
   "metadata": {},
   "outputs": [],
   "source": [
    "# Задание 3. Ваш код здесь.\n"
   ]
  },
  {
   "cell_type": "markdown",
   "id": "48f8f231",
   "metadata": {},
   "source": [
    "Задание 4. Напишите программу, которая создаёт numpy-массив с четными числами от 30 до 70."
   ]
  },
  {
   "cell_type": "code",
   "execution_count": null,
   "id": "b60868ab",
   "metadata": {},
   "outputs": [],
   "source": [
    "# Задание 4. Ваш код здесь.\n"
   ]
  },
  {
   "cell_type": "markdown",
   "id": "fc6e4409",
   "metadata": {},
   "source": [
    "Задание 5. С помощью numpy создайте единичную матрицу $9\\times9$."
   ]
  },
  {
   "cell_type": "code",
   "execution_count": null,
   "id": "fb92bd23",
   "metadata": {},
   "outputs": [],
   "source": [
    "# Задание 5. Ваш код здесь.\n"
   ]
  },
  {
   "cell_type": "markdown",
   "id": "c5d56c69",
   "metadata": {},
   "source": [
    "Задание 6. Напишите программу, которая создаёт numpy массив из 20 равномерно распределённых случайных чисел от 0 до 20 и затем меняет знак чисел, находящихся в интервале от 9 до 15."
   ]
  },
  {
   "cell_type": "code",
   "execution_count": null,
   "id": "11534599",
   "metadata": {},
   "outputs": [],
   "source": [
    "# Задание 6. Ваш код здесь.\n"
   ]
  }
 ],
 "metadata": {
  "kernelspec": {
   "display_name": "Python 3 (ipykernel)",
   "language": "python",
   "name": "python3"
  },
  "language_info": {
   "codemirror_mode": {
    "name": "ipython",
    "version": 3
   },
   "file_extension": ".py",
   "mimetype": "text/x-python",
   "name": "python",
   "nbconvert_exporter": "python",
   "pygments_lexer": "ipython3",
   "version": "3.9.12"
  }
 },
 "nbformat": 4,
 "nbformat_minor": 5
}
