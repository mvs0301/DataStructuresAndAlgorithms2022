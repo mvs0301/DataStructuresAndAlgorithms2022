{
 "cells": [
  {
   "cell_type": "markdown",
   "id": "9053fea6",
   "metadata": {},
   "source": [
    "<img src=../Img/banner.png>\n",
    "\n",
    "7 октября 2022 года<br>\n",
    "Семинар, 11:50 - 13:20, 3-я пара<br>\n",
    "В4/ауд. 3709(кк), 4-й Вешняковский проезд, 4<br>\n",
    "Группа БИ22-13\n",
    "\n",
    "7 октября 2022 года<br>\n",
    "Семинар, 15:40 - 17:10, 5-я пара<br>\n",
    "В4/ауд. 3411(кк), 4-й Вешняковский проезд, 4<br>\n",
    "Группа БИ22-13\n",
    "\n",
    "Преподаватель: Смирнов Михаил Викторович, доцент Департамента Анализа данных и машинного обучения Финансового университета при Правительстве Российской Федерации\n",
    "\n",
    "\n",
    "# Тема 3. Словари, множества и выражения-генераторы"
   ]
  },
  {
   "cell_type": "code",
   "execution_count": 2,
   "id": "fcc4ced4",
   "metadata": {},
   "outputs": [],
   "source": [
    "from random import randint"
   ]
  },
  {
   "cell_type": "code",
   "execution_count": 3,
   "id": "792686af",
   "metadata": {},
   "outputs": [
    {
     "data": {
      "text/plain": [
       "[[[121, 103, 71],\n",
       "  [252, 25, 18],\n",
       "  [90, 250, 170],\n",
       "  [163, 28, 188],\n",
       "  [44, 244, 65]]]"
      ]
     },
     "execution_count": 3,
     "metadata": {},
     "output_type": "execute_result"
    }
   ],
   "source": [
    "# Генерируем случайную матрицу n*m цветных пикселей размера rows*pixels\n",
    "\n",
    "image=[]\n",
    "\n",
    "n,m=4,5\n",
    "\n",
    "for row in range(n):\n",
    "    row=[]\n",
    "    for col in range(m):\n",
    "        pixel=[randint(0,255),randint(0,255),randint(0,255)]\n",
    "        row.append(pixel)\n",
    "    image.append(row)\n",
    "\n",
    "image[:1] # Распечатаем один слой для проверки"
   ]
  },
  {
   "cell_type": "code",
   "execution_count": 4,
   "id": "6e739df9",
   "metadata": {},
   "outputs": [
    {
     "name": "stdout",
     "output_type": "stream",
     "text": [
      "[['#796747', '#fc1912', '#5afaaa', '#a31cbc', '#2cf441'], ['#d32ca9', '#5da2d3', '#247073', '#f03285', '#eccb96'], ['#d9481c', '#8cf9ef', '#cf5d4', '#4aebea', '#77ddd'], ['#516c1', '#c46b2e', '#123d6f', '#4be776', '#5ca244']]\n"
     ]
    }
   ],
   "source": [
    "# Переводим числа в шестнадцатиричный формат\n",
    "\n",
    "hex_image=[]\n",
    "for row in image:\n",
    "    hex_row=[]\n",
    "    for pixel in row:\n",
    "        hex_color='#'+hex(pixel[0])[2:]+hex(pixel[1])[2:]+hex(pixel[2])[2:]\n",
    "        hex_row.append(hex_color)\n",
    "    hex_image.append(hex_row)\n",
    "\n",
    "print(hex_image) # Проверка, что получилось"
   ]
  },
  {
   "cell_type": "code",
   "execution_count": 33,
   "id": "68dfee7c",
   "metadata": {},
   "outputs": [
    {
     "name": "stdout",
     "output_type": "stream",
     "text": [
      "<table>\n",
      "<tr>\n",
      "<td bgcolor=#82a0e7; width=50; height=50></td>\n",
      "<td bgcolor=#d9b6cb; width=50; height=50></td>\n",
      "<td bgcolor=#8f1e5; width=50; height=50></td>\n",
      "<td bgcolor=#ae5768; width=50; height=50></td>\n",
      "<td bgcolor=#18ecd8; width=50; height=50></td>\n",
      "</tr>\n",
      "<tr>\n",
      "<td bgcolor=#4e4f5e; width=50; height=50></td>\n",
      "<td bgcolor=#62d6b3; width=50; height=50></td>\n",
      "<td bgcolor=#e7f92; width=50; height=50></td>\n",
      "<td bgcolor=#352419; width=50; height=50></td>\n",
      "<td bgcolor=#7172a1; width=50; height=50></td>\n",
      "</tr>\n",
      "<tr>\n",
      "<td bgcolor=#8c9253; width=50; height=50></td>\n",
      "<td bgcolor=#cfbc46; width=50; height=50></td>\n",
      "<td bgcolor=#187537; width=50; height=50></td>\n",
      "<td bgcolor=#8622f3; width=50; height=50></td>\n",
      "<td bgcolor=#4a982c; width=50; height=50></td>\n",
      "</tr>\n",
      "<tr>\n",
      "<td bgcolor=#eceba4; width=50; height=50></td>\n",
      "<td bgcolor=#ca4b1a; width=50; height=50></td>\n",
      "<td bgcolor=#c1747; width=50; height=50></td>\n",
      "<td bgcolor=#9168f8; width=50; height=50></td>\n",
      "<td bgcolor=#cabbce; width=50; height=50></td>\n",
      "</tr>\n",
      "</table>\n"
     ]
    }
   ],
   "source": [
    "print('<table>')\n",
    "for row in hex_image:\n",
    "    print('<tr>')\n",
    "    for color in row:\n",
    "        print(f'<td bgcolor={color}; width=50; height=50></td>')\n",
    "    print('</tr>')\n",
    "print('</table>')"
   ]
  },
  {
   "cell_type": "markdown",
   "id": "2e0cc754",
   "metadata": {},
   "source": [
    "<table>\n",
    "<tr>\n",
    "<td bgcolor=#82a0e7; width=50; height=50></td>\n",
    "<td bgcolor=#d9b6cb; width=50; height=50></td>\n",
    "<td bgcolor=#8f1e5; width=50; height=50></td>\n",
    "<td bgcolor=#ae5768; width=50; height=50></td>\n",
    "<td bgcolor=#18ecd8; width=50; height=50></td>\n",
    "</tr>\n",
    "<tr>\n",
    "<td bgcolor=#4e4f5e; width=50; height=50></td>\n",
    "<td bgcolor=#62d6b3; width=50; height=50></td>\n",
    "<td bgcolor=#e7f92; width=50; height=50></td>\n",
    "<td bgcolor=#352419; width=50; height=50></td>\n",
    "<td bgcolor=#7172a1; width=50; height=50></td>\n",
    "</tr>\n",
    "<tr>\n",
    "<td bgcolor=#8c9253; width=50; height=50></td>\n",
    "<td bgcolor=#cfbc46; width=50; height=50></td>\n",
    "<td bgcolor=#187537; width=50; height=50></td>\n",
    "<td bgcolor=#8622f3; width=50; height=50></td>\n",
    "<td bgcolor=#4a982c; width=50; height=50></td>\n",
    "</tr>\n",
    "<tr>\n",
    "<td bgcolor=#eceba4; width=50; height=50></td>\n",
    "<td bgcolor=#ca4b1a; width=50; height=50></td>\n",
    "<td bgcolor=#c1747; width=50; height=50></td>\n",
    "<td bgcolor=#9168f8; width=50; height=50></td>\n",
    "<td bgcolor=#cabbce; width=50; height=50></td>\n",
    "</tr>\n",
    "</table>"
   ]
  },
  {
   "cell_type": "markdown",
   "id": "67017c66",
   "metadata": {},
   "source": [
    " ## Операции над множествами\n",
    " \n",
    " ## Задачи\n",
    " \n",
    "1. Создайте два множества A и B, добавив в A 10 случайных целых чисел от 1 до 20, а в B – 5 таких же чисел. Для созданных множеств:\n",
    "- найдите их объединение, пересечение, разность, множество элементов, которые не входят в пересечение;\n",
    "- проверьте, является ли A подмножеством B и наоборот.\n",
    "\n",
    "\n",
    "\n",
    "2. Создайте 2 списка из 5 случайных целых чисел от 1 до 10.\n",
    "- определите, сколько различных чисел содержат списки;\n",
    "- определите, сколько различных чисел содержится одновременно как в первом списке, так и во втором,\n",
    "- выведите все числа, которые входят как в первый, так и во второй список в порядке возрастания,\n",
    "- удалите из первого списка числа, входящие во второй список.\n",
    "\n",
    "\n",
    "3. Для заданного натурального n≥2 найти все простые числа, которые меньше или равны \n",
    "- n, используя алгоритм, который называют «решето Эратосфена»:\n",
    "- пусть R – строимое множество простых чисел и D – множество, называемое решетом, в начале работы R – пустое множество, D – множество всех целых чисел от 2 до n;\n",
    "- на каждом шаге алгоритма наименьший элемент D помещается в R, а из D удаляются все числа, кратные этому элементу;\n",
    "- алгоритм заканчивает работу при пустом D.\n",
    "\n",
    "\n",
    "4. Участники олимпиады решали 3 задачи. Известны фамилии тех, кто решил первую, вторую и третью задачи (для каждой задачи отдельный список). Найдите и выведите на экран фамилии тех, кто\n",
    "- решил хотя бы одну задачу (любую);\n",
    "- решил все задачи;\n",
    "- решил ровно1 задачу (любую);\n",
    "- решил ровно 2 задачи (любые);\n",
    "- решил не больше 2 задач (любых).\n",
    "\n",
    "\n",
    "5. Каждый участник международной конференции указал, какими языками он владеет (для хранения этой информации используйте словарь). Предполагается, что конференция проводится на русском языке, и выполняется синхронный перевод на английский. Определите:\n",
    "- есть ли язык, на котором разговаривают все участники;\n",
    "- фамилии участников, которые не владеют русским языком; \n",
    "- на какие языки еще нужен перевод (язык учитывается, если участник не знает русского и английского), и сколько человек знают этот язык.\n",
    "6. Из множества целых чисел от 1 до N выделить множество N2 числа, кратные 2, множество N3 – кратные 3, множество N6 – кратные 6 (т.е. кратные и 2 и 3), множество N23 – кратные либо 2, либо 3."
   ]
  }
 ],
 "metadata": {
  "kernelspec": {
   "display_name": "Python 3",
   "language": "python",
   "name": "python3"
  },
  "language_info": {
   "codemirror_mode": {
    "name": "ipython",
    "version": 3
   },
   "file_extension": ".py",
   "mimetype": "text/x-python",
   "name": "python",
   "nbconvert_exporter": "python",
   "pygments_lexer": "ipython3",
   "version": "3.8.10"
  }
 },
 "nbformat": 4,
 "nbformat_minor": 5
}
