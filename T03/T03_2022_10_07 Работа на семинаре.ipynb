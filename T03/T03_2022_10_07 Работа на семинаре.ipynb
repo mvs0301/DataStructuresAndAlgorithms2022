{
 "cells": [
  {
   "cell_type": "markdown",
   "id": "9053fea6",
   "metadata": {},
   "source": [
    "<img src=../Img/banner.png>\n",
    "\n",
    "7 октября 2022 года<br>\n",
    "Семинар, 11:50 - 13:20, 3-я пара<br>\n",
    "В4/ауд. 3709(кк), 4-й Вешняковский проезд, 4<br>\n",
    "Группа БИ22-13\n",
    "\n",
    "7 октября 2022 года<br>\n",
    "Семинар, 15:40 - 17:10, 5-я пара<br>\n",
    "В4/ауд. 3411(кк), 4-й Вешняковский проезд, 4<br>\n",
    "Группа БИ22-13\n",
    "\n",
    "Преподаватель: Смирнов Михаил Викторович, доцент Департамента Анализа данных и машинного обучения Финансового университета при Правительстве Российской Федерации\n",
    "\n",
    "\n",
    "# Тема 3. Словари, множества и выражения-генераторы"
   ]
  },
  {
   "cell_type": "code",
   "execution_count": 112,
   "id": "fcc4ced4",
   "metadata": {},
   "outputs": [],
   "source": [
    "from random import randint"
   ]
  },
  {
   "cell_type": "code",
   "execution_count": 116,
   "id": "792686af",
   "metadata": {
    "scrolled": false
   },
   "outputs": [
    {
     "data": {
      "text/plain": [
       "[[[250, 250, 241],\n",
       "  [250, 250, 233],\n",
       "  [250, 250, 224],\n",
       "  [250, 250, 216],\n",
       "  [250, 250, 208],\n",
       "  [250, 250, 199],\n",
       "  [250, 250, 191],\n",
       "  [250, 250, 182],\n",
       "  [250, 250, 174],\n",
       "  [250, 250, 166]],\n",
       " [[250, 250, 241],\n",
       "  [250, 250, 233],\n",
       "  [250, 250, 224],\n",
       "  [250, 250, 216],\n",
       "  [250, 250, 208],\n",
       "  [250, 250, 199],\n",
       "  [250, 250, 191],\n",
       "  [250, 250, 182],\n",
       "  [250, 250, 174],\n",
       "  [250, 250, 166]],\n",
       " [[250, 250, 241],\n",
       "  [250, 250, 233],\n",
       "  [250, 250, 224],\n",
       "  [250, 250, 216],\n",
       "  [250, 250, 208],\n",
       "  [250, 250, 199],\n",
       "  [250, 250, 191],\n",
       "  [250, 250, 182],\n",
       "  [250, 250, 174],\n",
       "  [250, 250, 166]]]"
      ]
     },
     "execution_count": 116,
     "metadata": {},
     "output_type": "execute_result"
    }
   ],
   "source": [
    "# Генерируем случайную матрицу n*m цветных пикселей размера rows*pixels\n",
    "\n",
    "image=[]\n",
    "\n",
    "n,m=4,10\n",
    "int_0=250\n",
    "substr=(int_0)//(2*m)\n",
    "\n",
    "for row in range(n):\n",
    "    row=[]\n",
    "    i=0\n",
    "    for col in range(m):\n",
    "        i+=1\n",
    "        pixel=[int_0-int(i*substr),int_0-int(0*i*substr),int(int_0-0.7*i*substr)]\n",
    "        row.append(pixel)\n",
    "    image.append(row)\n",
    "\n",
    "image[:3] # Распечатаем один слой для проверки"
   ]
  },
  {
   "cell_type": "code",
   "execution_count": 117,
   "id": "6e739df9",
   "metadata": {},
   "outputs": [
    {
     "name": "stdout",
     "output_type": "stream",
     "text": [
      "[['#fafaf1', '#fafae9', '#fafae0', '#fafad8', '#fafad0', '#fafac7', '#fafabf', '#fafab6', '#fafaae', '#fafaa6'], ['#fafaf1', '#fafae9', '#fafae0', '#fafad8', '#fafad0', '#fafac7', '#fafabf', '#fafab6', '#fafaae', '#fafaa6'], ['#fafaf1', '#fafae9', '#fafae0', '#fafad8', '#fafad0', '#fafac7', '#fafabf', '#fafab6', '#fafaae', '#fafaa6'], ['#fafaf1', '#fafae9', '#fafae0', '#fafad8', '#fafad0', '#fafac7', '#fafabf', '#fafab6', '#fafaae', '#fafaa6']]\n"
     ]
    }
   ],
   "source": [
    "# Переводим числа в шестнадцатиричный формат\n",
    "\n",
    "hex_image=[]\n",
    "for row in image:\n",
    "    hex_row=[]\n",
    "    for pixel in row:\n",
    "        hex_color='#'+hex(pixel[0])[2:]+hex(pixel[1])[2:]+hex(pixel[2])[2:]\n",
    "        hex_row.append(hex_color)\n",
    "    hex_image.append(hex_row)\n",
    "\n",
    "print(hex_image) # Проверка, что получилось"
   ]
  },
  {
   "cell_type": "code",
   "execution_count": 118,
   "id": "68dfee7c",
   "metadata": {
    "scrolled": false
   },
   "outputs": [
    {
     "name": "stdout",
     "output_type": "stream",
     "text": [
      "<table>\n",
      "<tr>\n",
      "<td bgcolor=#fafaf1; width=50; height=50></td>\n",
      "<td bgcolor=#fafae9; width=50; height=50></td>\n",
      "<td bgcolor=#fafae0; width=50; height=50></td>\n",
      "<td bgcolor=#fafad8; width=50; height=50></td>\n",
      "<td bgcolor=#fafad0; width=50; height=50></td>\n",
      "<td bgcolor=#fafac7; width=50; height=50></td>\n",
      "<td bgcolor=#fafabf; width=50; height=50></td>\n",
      "<td bgcolor=#fafab6; width=50; height=50></td>\n",
      "<td bgcolor=#fafaae; width=50; height=50></td>\n",
      "<td bgcolor=#fafaa6; width=50; height=50></td>\n",
      "</tr>\n",
      "<tr>\n",
      "<td bgcolor=#fafaf1; width=50; height=50></td>\n",
      "<td bgcolor=#fafae9; width=50; height=50></td>\n",
      "<td bgcolor=#fafae0; width=50; height=50></td>\n",
      "<td bgcolor=#fafad8; width=50; height=50></td>\n",
      "<td bgcolor=#fafad0; width=50; height=50></td>\n",
      "<td bgcolor=#fafac7; width=50; height=50></td>\n",
      "<td bgcolor=#fafabf; width=50; height=50></td>\n",
      "<td bgcolor=#fafab6; width=50; height=50></td>\n",
      "<td bgcolor=#fafaae; width=50; height=50></td>\n",
      "<td bgcolor=#fafaa6; width=50; height=50></td>\n",
      "</tr>\n",
      "<tr>\n",
      "<td bgcolor=#fafaf1; width=50; height=50></td>\n",
      "<td bgcolor=#fafae9; width=50; height=50></td>\n",
      "<td bgcolor=#fafae0; width=50; height=50></td>\n",
      "<td bgcolor=#fafad8; width=50; height=50></td>\n",
      "<td bgcolor=#fafad0; width=50; height=50></td>\n",
      "<td bgcolor=#fafac7; width=50; height=50></td>\n",
      "<td bgcolor=#fafabf; width=50; height=50></td>\n",
      "<td bgcolor=#fafab6; width=50; height=50></td>\n",
      "<td bgcolor=#fafaae; width=50; height=50></td>\n",
      "<td bgcolor=#fafaa6; width=50; height=50></td>\n",
      "</tr>\n",
      "<tr>\n",
      "<td bgcolor=#fafaf1; width=50; height=50></td>\n",
      "<td bgcolor=#fafae9; width=50; height=50></td>\n",
      "<td bgcolor=#fafae0; width=50; height=50></td>\n",
      "<td bgcolor=#fafad8; width=50; height=50></td>\n",
      "<td bgcolor=#fafad0; width=50; height=50></td>\n",
      "<td bgcolor=#fafac7; width=50; height=50></td>\n",
      "<td bgcolor=#fafabf; width=50; height=50></td>\n",
      "<td bgcolor=#fafab6; width=50; height=50></td>\n",
      "<td bgcolor=#fafaae; width=50; height=50></td>\n",
      "<td bgcolor=#fafaa6; width=50; height=50></td>\n",
      "</tr>\n",
      "</table>\n"
     ]
    }
   ],
   "source": [
    "# Генерируем HTML-код\n",
    "\n",
    "print('<table>')\n",
    "for row in hex_image:\n",
    "    print('<tr>')\n",
    "    for color in row:\n",
    "        print(f'<td bgcolor={color}; width=50; height=50></td>')\n",
    "    print('</tr>')\n",
    "print('</table>')"
   ]
  },
  {
   "cell_type": "markdown",
   "id": "2e0cc754",
   "metadata": {},
   "source": [
    "<table>\n",
    "<tr>\n",
    "<td bgcolor=#fafaf1; width=50; height=50></td>\n",
    "<td bgcolor=#fafae9; width=50; height=50></td>\n",
    "<td bgcolor=#fafae0; width=50; height=50></td>\n",
    "<td bgcolor=#fafad8; width=50; height=50></td>\n",
    "<td bgcolor=#fafad0; width=50; height=50></td>\n",
    "<td bgcolor=#fafac7; width=50; height=50></td>\n",
    "<td bgcolor=#fafabf; width=50; height=50></td>\n",
    "<td bgcolor=#fafab6; width=50; height=50></td>\n",
    "<td bgcolor=#fafaae; width=50; height=50></td>\n",
    "<td bgcolor=#fafaa6; width=50; height=50></td>\n",
    "</tr>\n",
    "<tr>\n",
    "<td bgcolor=#fafaf1; width=50; height=50></td>\n",
    "<td bgcolor=#fafae9; width=50; height=50></td>\n",
    "<td bgcolor=#fafae0; width=50; height=50></td>\n",
    "<td bgcolor=#fafad8; width=50; height=50></td>\n",
    "<td bgcolor=#fafad0; width=50; height=50></td>\n",
    "<td bgcolor=#fafac7; width=50; height=50></td>\n",
    "<td bgcolor=#fafabf; width=50; height=50></td>\n",
    "<td bgcolor=#fafab6; width=50; height=50></td>\n",
    "<td bgcolor=#fafaae; width=50; height=50></td>\n",
    "<td bgcolor=#fafaa6; width=50; height=50></td>\n",
    "</tr>\n",
    "<tr>\n",
    "<td bgcolor=#fafaf1; width=50; height=50></td>\n",
    "<td bgcolor=#fafae9; width=50; height=50></td>\n",
    "<td bgcolor=#fafae0; width=50; height=50></td>\n",
    "<td bgcolor=#fafad8; width=50; height=50></td>\n",
    "<td bgcolor=#fafad0; width=50; height=50></td>\n",
    "<td bgcolor=#fafac7; width=50; height=50></td>\n",
    "<td bgcolor=#fafabf; width=50; height=50></td>\n",
    "<td bgcolor=#fafab6; width=50; height=50></td>\n",
    "<td bgcolor=#fafaae; width=50; height=50></td>\n",
    "<td bgcolor=#fafaa6; width=50; height=50></td>\n",
    "</tr>\n",
    "<tr>\n",
    "<td bgcolor=#fafaf1; width=50; height=50></td>\n",
    "<td bgcolor=#fafae9; width=50; height=50></td>\n",
    "<td bgcolor=#fafae0; width=50; height=50></td>\n",
    "<td bgcolor=#fafad8; width=50; height=50></td>\n",
    "<td bgcolor=#fafad0; width=50; height=50></td>\n",
    "<td bgcolor=#fafac7; width=50; height=50></td>\n",
    "<td bgcolor=#fafabf; width=50; height=50></td>\n",
    "<td bgcolor=#fafab6; width=50; height=50></td>\n",
    "<td bgcolor=#fafaae; width=50; height=50></td>\n",
    "<td bgcolor=#fafaa6; width=50; height=50></td>\n",
    "</tr>\n",
    "</table>"
   ]
  },
  {
   "cell_type": "markdown",
   "id": "67017c66",
   "metadata": {},
   "source": [
    " ## Операции над множествами\n",
    " \n",
    " ## Задачи\n",
    " \n",
    "1. Создайте два множества A и B, добавив в A 10 случайных целых чисел от 1 до 20, а в B – 5 таких же чисел. Для созданных множеств:\n",
    "- найдите их объединение, пересечение, разность, множество элементов, которые не входят в пересечение;\n",
    "- проверьте, является ли A подмножеством B и наоборот.\n",
    "\n",
    "\n",
    "\n",
    "2. Создайте 2 списка из 5 случайных целых чисел от 1 до 10.\n",
    "- определите, сколько различных чисел содержат списки;\n",
    "- определите, сколько различных чисел содержится одновременно как в первом списке, так и во втором,\n",
    "- выведите все числа, которые входят как в первый, так и во второй список в порядке возрастания,\n",
    "- удалите из первого списка числа, входящие во второй список.\n",
    "\n",
    "\n",
    "3. Для заданного натурального n≥2 найти все простые числа, которые меньше или равны \n",
    "- n, используя алгоритм, который называют «решето Эратосфена»:\n",
    "- пусть R – строимое множество простых чисел и D – множество, называемое решетом, в начале работы R – пустое множество, D – множество всех целых чисел от 2 до n;\n",
    "- на каждом шаге алгоритма наименьший элемент D помещается в R, а из D удаляются все числа, кратные этому элементу;\n",
    "- алгоритм заканчивает работу при пустом D.\n",
    "\n",
    "\n",
    "4. Участники олимпиады решали 3 задачи. Известны фамилии тех, кто решил первую, вторую и третью задачи (для каждой задачи отдельный список). Найдите и выведите на экран фамилии тех, кто\n",
    "- решил хотя бы одну задачу (любую);\n",
    "- решил все задачи;\n",
    "- решил ровно1 задачу (любую);\n",
    "- решил ровно 2 задачи (любые);\n",
    "- решил не больше 2 задач (любых).\n",
    "\n",
    "\n",
    "5. Каждый участник международной конференции указал, какими языками он владеет (для хранения этой информации используйте словарь). Предполагается, что конференция проводится на русском языке, и выполняется синхронный перевод на английский. Определите:\n",
    "- есть ли язык, на котором разговаривают все участники;\n",
    "- фамилии участников, которые не владеют русским языком; \n",
    "- на какие языки еще нужен перевод (язык учитывается, если участник не знает русского и английского), и сколько человек знают этот язык.\n",
    "6. Из множества целых чисел от 1 до N выделить множество N2 числа, кратные 2, множество N3 – кратные 3, множество N6 – кратные 6 (т.е. кратные и 2 и 3), множество N23 – кратные либо 2, либо 3."
   ]
  },
  {
   "cell_type": "code",
   "execution_count": 109,
   "id": "669d2ec4",
   "metadata": {},
   "outputs": [],
   "source": [
    "# 1\n",
    "\n",
    "from random import randint"
   ]
  },
  {
   "cell_type": "code",
   "execution_count": 110,
   "id": "8c4fc5f3",
   "metadata": {},
   "outputs": [
    {
     "name": "stdout",
     "output_type": "stream",
     "text": [
      "[3, 12, 7, 26, 10, 8, 14, 6, 9, 11]\n",
      "{3, 6, 7, 8, 9, 10, 11, 12, 14, 26}\n"
     ]
    }
   ],
   "source": [
    "A=set()\n",
    "\n",
    "List_A=[randint(1,30) for x in range(10)]\n",
    "Set_A={x for x in List_A}\n",
    "print(List_A)\n",
    "print(Set_A)\n",
    "\n",
    "#B={randint(1,30) for x in range(5)}\n",
    "#print(B)\n",
    "\n",
    "# Объединение\n",
    "#print(A.union(B))\n",
    "\n",
    "# Пересечение\n",
    "#print(A.intersection_update(B))"
   ]
  },
  {
   "cell_type": "code",
   "execution_count": null,
   "id": "1d53399a",
   "metadata": {},
   "outputs": [],
   "source": [
    "B"
   ]
  },
  {
   "cell_type": "code",
   "execution_count": null,
   "id": "2d579cd1",
   "metadata": {},
   "outputs": [],
   "source": [
    "A=set()\n",
    "i=10\n",
    "while i > 0:\n",
    "    i-=1\n",
    "    A.add(randint(1,20))\n",
    "print(A)"
   ]
  },
  {
   "cell_type": "code",
   "execution_count": null,
   "id": "44b52051",
   "metadata": {},
   "outputs": [],
   "source": [
    "[x for x in range(1,11)]"
   ]
  },
  {
   "cell_type": "code",
   "execution_count": null,
   "id": "dc38ff8e",
   "metadata": {},
   "outputs": [],
   "source": [
    "p1={x:x**2 for x in range(11)}\n",
    "print(p1)\n",
    "print(p1.keys())\n",
    "print(p1.values())"
   ]
  },
  {
   "cell_type": "code",
   "execution_count": null,
   "id": "cb7c0d14",
   "metadata": {},
   "outputs": [],
   "source": [
    "from matplotlib import pyplot as plt\n",
    "fig,axes=plt.subplots()\n",
    "axes.plot(p1.keys(),p1.values())\n",
    "axes.grid()"
   ]
  }
 ],
 "metadata": {
  "kernelspec": {
   "display_name": "Python 3 (ipykernel)",
   "language": "python",
   "name": "python3"
  },
  "language_info": {
   "codemirror_mode": {
    "name": "ipython",
    "version": 3
   },
   "file_extension": ".py",
   "mimetype": "text/x-python",
   "name": "python",
   "nbconvert_exporter": "python",
   "pygments_lexer": "ipython3",
   "version": "3.9.7"
  }
 },
 "nbformat": 4,
 "nbformat_minor": 5
}
