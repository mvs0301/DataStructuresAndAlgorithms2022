{
 "cells": [
  {
   "cell_type": "markdown",
   "metadata": {},
   "source": [
    "<img src=../Img/banner.png>\n",
    "\n",
    "14 октября 2022 года<br>\n",
    "Семинар, 15:40 - 17:10, 5-я пара<br>\n",
    "В4/3411(кк), 4-й Вешняковский проезд, 4<br>\n",
    "Группа БИ22-13\n",
    "\n",
    "Преподаватель: Смирнов Михаил Викторович, доцент Департамента Анализа данных и машинного обучения Финансового университета при Правительстве Российской Федерации\n",
    "\n",
    "\n",
    "# Тема 4. Функции: теория"
   ]
  },
  {
   "cell_type": "markdown",
   "metadata": {},
   "source": [
    "<a id=Ref></a>\n",
    "# Оглавление\n",
    "\n",
    "[1.Функциональный подход к программированию](#1)<br>\n",
    "[2.Функция как объект](#2)<br>\n",
    "[3.Глобальные и локальные переменные](#3)<br>\n",
    "[4.Переменное число параметров функции](#4)<br>\n",
    "[5.Хранение функций в модулях](#5)"
   ]
  },
  {
   "cell_type": "markdown",
   "metadata": {},
   "source": [
    "<a id=1></a>\n",
    "[Оглавление](#Ref)|| [=>](#2)\n",
    "\n",
    "## 1. Функциональный подход к программированию\n",
    "\n",
    "## 1.1. Зачем нужны функции\n",
    "\n",
    "Код программы становится сложным, запутанным по мере его увеличения. Функции нужны для организации кода, повышения степени \"читаемости\" кода. Код программы с функциями проще изменять, совершенствовать.\n",
    "\n",
    "В этом разделе узнаем:\n",
    "- как создавать функции\n",
    "- как эффективно применять их\n",
    "- как избежать распространенных ошибок\n",
    "\n",
    "## 1.2. Определение функции\n",
    "\n",
    "Ранее мы уже использовали встроенные функции, такие, как *len(), reversed()* или *round()*."
   ]
  },
  {
   "cell_type": "code",
   "execution_count": 1,
   "metadata": {},
   "outputs": [
    {
     "name": "stdout",
     "output_type": "stream",
     "text": [
      "3\n",
      "['c', 'b', 'a']\n",
      "2.3333\n"
     ]
    }
   ],
   "source": [
    "print(len(['a','b','c']))\n",
    "\n",
    "print(list(reversed('abc')))\n",
    "\n",
    "print(round(7/3,4))"
   ]
  },
  {
   "cell_type": "markdown",
   "metadata": {},
   "source": [
    "Такие функции можно рассматривать, как черный ящик, в который мы передаём какие-то значения и получаем ответ. Хорошая новость в том, что мы сами можем писать функции.\n",
    "\n",
    "<u>Пример</u>. Создадим функцию, выполняющую сложение единицы и двойки."
   ]
  },
  {
   "cell_type": "code",
   "execution_count": 2,
   "metadata": {},
   "outputs": [],
   "source": [
    "def summa_1_2():\n",
    "    return 1+2"
   ]
  },
  {
   "cell_type": "code",
   "execution_count": 3,
   "metadata": {},
   "outputs": [
    {
     "name": "stdout",
     "output_type": "stream",
     "text": [
      "3\n"
     ]
    }
   ],
   "source": [
    "# Вызов функции\n",
    "print(summa_1_2())"
   ]
  },
  {
   "cell_type": "markdown",
   "metadata": {},
   "source": [
    "В рассмотренной функции не использовались аргументы. Теперь создадим функцию с аргументом - числом, которое функция будет возводить в квадрат."
   ]
  },
  {
   "cell_type": "code",
   "execution_count": 4,
   "metadata": {},
   "outputs": [],
   "source": [
    "def square(num):\n",
    "    return num**2"
   ]
  },
  {
   "cell_type": "code",
   "execution_count": 5,
   "metadata": {},
   "outputs": [
    {
     "data": {
      "text/plain": [
       "25"
      ]
     },
     "execution_count": 5,
     "metadata": {},
     "output_type": "execute_result"
    }
   ],
   "source": [
    "# Вызов функции\n",
    "square(5)"
   ]
  },
  {
   "cell_type": "markdown",
   "metadata": {},
   "source": [
    "<u>Еще пример</u>. Пусть в магазине \"Все по 60\" яблоки стоят 30. Напишем функцию цены товара."
   ]
  },
  {
   "cell_type": "code",
   "execution_count": 6,
   "metadata": {},
   "outputs": [],
   "source": [
    "def price(product):\n",
    "    p = 30 if product=='apples' else 60\n",
    "    return p"
   ]
  },
  {
   "cell_type": "code",
   "execution_count": 7,
   "metadata": {},
   "outputs": [
    {
     "name": "stdout",
     "output_type": "stream",
     "text": [
      "30\n",
      "60\n",
      "60\n"
     ]
    }
   ],
   "source": [
    "# Вызов функции\n",
    "for item in ['apples','grape','oranges']:\n",
    "    print(price(item))"
   ]
  },
  {
   "cell_type": "markdown",
   "metadata": {},
   "source": [
    "Обобщим полученные знания. Вот из чего состоит функция.\n",
    "\n",
    "- Кючевое слово ***def***, которым мы объявляем намерение создать функцию.\n",
    "- Название функции, оно может состоять из латинских букв, цифр и символов подчеркивания. После названия обязательно присутствовуют скобки, даже если в них ничего нет.\n",
    "- Аргументы - это значения в скобках, которые мы передаём в функцию.\n",
    "- Двоеточие и перенос на следующую строку с отступом.\n",
    "- Тело функции, в котором происходят вычисления.\n",
    "- Возврат результатов с помощью ключевого слова *return*.\n",
    "\n",
    "## 1.3. Сложные функции\n",
    "\n",
    "В примерах выше функции выполняют самые простые операции - арифметические операции или выбор элемента коллекции. Но функция может выполнять и более сложные действия: читать данные из файла или записывать данные в файл, обрабатывать данные в матрицах, вызывать другие функции.\n",
    "\n",
    "Например, мы можем написать функцию, кторая рассчитывает медиану ряда чисел. Медиана - это число, которое делит ранжированные данные на две равные части так, что половина ранжированных данных меньше этого числа, а другая половина - больше. Медиана - не то же самое, что среднее арифметическое. Например, если вес студентов 56, 60, 61, 69, 71 кг, то медианой будет 61. В случае, если число исследуемых объектов четное, то медианой является среднее значение между значениями двух объектов посередине."
   ]
  },
  {
   "cell_type": "markdown",
   "metadata": {},
   "source": [
    "<img src=../Img/pencil.png>\n",
    "<p style=\"background-color:powderblue; font-size:125%; color: rebeccapurple;\">Выполните задания</p>\n",
    "\n",
    "1. Напишите функцию, которая складывает два числа.\n",
    "2. Напишите функцию, которая первый аргумент возводит в степень второго аргумента.\n",
    "3. Напишите функцию, которая получает два числа и один из операторов `'+', '-', '*', '/'`. Функция реализует операции сложения, вычитания, умножения и деления двух чисел.\n",
    "4. Усовершенствуйте функцию `price()` так, чтобы она подсчитывала стоимость товара с учётом его количества.\n",
    "5. Напишите функцию `calc_median()`, которая принимает на вход список числел и возвращает его медиану. `calc_median([5,2,1,3,4])` возвращает $3$, `calc_median([3,3,7,9])` возвращает $5$.\n",
    "\n",
    "<a id=Lst></a>\n",
    "[ <= ](#1)|| [Оглавление](#Ref) ||[ => ](#2)"
   ]
  },
  {
   "cell_type": "markdown",
   "metadata": {},
   "source": [
    "## 1.4. Функции в программе\n",
    "\n",
    "Допустим, мы знаем цены в рублях на товары и хотим перевести эти цены в валюту другой страны."
   ]
  },
  {
   "cell_type": "code",
   "execution_count": 8,
   "metadata": {},
   "outputs": [
    {
     "name": "stdout",
     "output_type": "stream",
     "text": [
      "[7.2727, 3.6364, 2.7273]\n"
     ]
    }
   ],
   "source": [
    "goods_price=[{'goods':'штаны','price':400},{'goods':'рубашка','price':200},{'goods':'кепка','price':150}]\n",
    "course=55\n",
    "\n",
    "goods_currency=[]\n",
    "for item in goods_price:\n",
    "    converted=round(item['price']/course,4)\n",
    "    goods_currency.append(converted)\n",
    "\n",
    "print(goods_currency)"
   ]
  },
  {
   "cell_type": "markdown",
   "metadata": {},
   "source": [
    "Пока всё хорошо. Предположим, что появились новые товары и изменился курс, тогда код придется переписать.\n",
    "\n",
    "```\n",
    "goods_price=[{'goods':'велосипед','price':1500},{'goods':'самокат','price':1450},\n",
    "             {'goods':'мотороллер','price':19200}]\n",
    "course=75\n",
    "\n",
    "goods_currency=[]\n",
    "\n",
    "for item in goods_price:\n",
    "    converted=round(item['price']/course,4)\n",
    "    goods_currency.append(converted)\n",
    "\n",
    "print(goods_currency)\n",
    "\n",
    ">> [21.2, 19.3333, 256.0]\n",
    "```"
   ]
  },
  {
   "cell_type": "markdown",
   "metadata": {},
   "source": [
    "Программа становится запутанной. В таком случае напишем функцию."
   ]
  },
  {
   "cell_type": "code",
   "execution_count": 9,
   "metadata": {},
   "outputs": [],
   "source": [
    "def to_currency(prices_data,currency_rate):\n",
    "    goods_currency=[]\n",
    "    for item in prices_data:\n",
    "        converted=round(item['price']/currency_rate,4)\n",
    "        goods_currency.append(converted)\n",
    "    return goods_currency"
   ]
  },
  {
   "cell_type": "markdown",
   "metadata": {},
   "source": [
    "Теперь функцию можно вызывать с любым набором товаров и курсом валюты."
   ]
  },
  {
   "cell_type": "code",
   "execution_count": 10,
   "metadata": {},
   "outputs": [
    {
     "data": {
      "text/plain": [
       "[10.2564, 25.641]"
      ]
     },
     "execution_count": 10,
     "metadata": {},
     "output_type": "execute_result"
    }
   ],
   "source": [
    "to_currency([{'title':'лодка','price':800},{'title':'палатка','price':2000}],78)"
   ]
  },
  {
   "cell_type": "markdown",
   "metadata": {},
   "source": [
    "<img src=../Img/pencil.png>\n",
    "<p style=\"background-color:powderblue; font-size:125%; color: rebeccapurple;\">Выполните задания</p>\n",
    "\n",
    "1. Напишите функцию `avg_orders()`, которая возвращает среднее число заказов, выполненных каждым менеджером. Входными данными являются данные в виде \n",
    "```\n",
    "orders_data=[{'manager':'Светлана','orders':12},\n",
    "             {'manager':'Светлана','orders':7},\n",
    "             {'manager':'Ирина','orders':3},\n",
    "             {'manager':'Ирина','orders':32},\n",
    "             {'manager':'Любовь','orders':70},\n",
    "             {'manager':'Любовь','orders':20}]\n",
    "```\n",
    "\n",
    "2. Перепишите функцию `to_currency()`, используя случайное число от 60 до 85 в качестве курса валюты. Для этого используйте функцию `random()` из модуля `random`, которая возвращает случайное число от 0 до 1.\n",
    "\n",
    "```\n",
    "from random import random\n",
    "print(random())\n",
    "\n",
    ">> 0.044591254255251456\n",
    "```"
   ]
  },
  {
   "cell_type": "markdown",
   "metadata": {},
   "source": [
    "<a id=2></a>\n",
    "[ <= ](#1)|| [Оглавление](#Ref) ||[ => ](#3)\n",
    "\n",
    "## 2. Функция как объект\n",
    "\n",
    "## 2.1. Функция как переменная"
   ]
  },
  {
   "cell_type": "markdown",
   "metadata": {},
   "source": [
    "В Python функции являются объектами, поэтому с ними можно обращаться, как переменными. Например, присвоить значение функции другой переменной."
   ]
  },
  {
   "cell_type": "code",
   "execution_count": 11,
   "metadata": {},
   "outputs": [
    {
     "name": "stdout",
     "output_type": "stream",
     "text": [
      "0.9356835486844425\n"
     ]
    }
   ],
   "source": [
    "from random import random\n",
    "print(random())"
   ]
  },
  {
   "cell_type": "code",
   "execution_count": 12,
   "metadata": {},
   "outputs": [
    {
     "name": "stdout",
     "output_type": "stream",
     "text": [
      "Hello\n"
     ]
    }
   ],
   "source": [
    "# Определим функцию, которая печатает \"привет\"  \n",
    "def say_hello():  \n",
    "    print(\"Hello\")  \n",
    "\n",
    "# Мы можем положить её в другую переменную  \n",
    "greetings = say_hello  \n",
    "\n",
    "# И она сработает так же, как исходная say_hello  \n",
    "greetings()  "
   ]
  },
  {
   "cell_type": "markdown",
   "metadata": {},
   "source": [
    "Так же вы можете передавать одну функцию в другую как аргумент. Когда мы обращаемся с функцией, как с переменной, мы не пишем скобки после имени функции."
   ]
  },
  {
   "cell_type": "code",
   "execution_count": 13,
   "metadata": {},
   "outputs": [],
   "source": [
    "def double_string(string):  \n",
    "    return string*2\n",
    "\n",
    "def apply_the_operation(operation, argument):  \n",
    "    print(f\"I'm using {operation} for the operation\")  \n",
    "    return operation(argument)"
   ]
  },
  {
   "cell_type": "code",
   "execution_count": 14,
   "metadata": {},
   "outputs": [
    {
     "name": "stdout",
     "output_type": "stream",
     "text": [
      "I'm using <function double_string at 0x000001BCC170F8B0> for the operation\n"
     ]
    },
    {
     "data": {
      "text/plain": [
       "'hellohello'"
      ]
     },
     "execution_count": 14,
     "metadata": {},
     "output_type": "execute_result"
    }
   ],
   "source": [
    "# передаём функцию double_string() в apply_the_operation()\n",
    "apply_the_operation(double_string, 'hello')"
   ]
  },
  {
   "cell_type": "markdown",
   "metadata": {},
   "source": [
    "\n",
    "## 2.2. Функция *map()*\n",
    "\n",
    "Мы видели, что можем передавать функцию как переменную. При работе с данными часто используется библиотечная функция `map()`, которая как раз одним из аргументов принимает функцию. `map()` применяет эту функцию к каждому элементу списка, который мы передаём вторым аргументом.\n",
    "\n",
    "Пусть, например, у нас есть список имён, и мы хотим получить для каждого вежливую форму. Определим функцию `polite_name()`, которая делает вежливым одно имя"
   ]
  },
  {
   "cell_type": "code",
   "execution_count": 15,
   "metadata": {},
   "outputs": [
    {
     "data": {
      "text/plain": [
       "['Mr. Boris', 'Mr. Ivan', 'Mr. Barak']"
      ]
     },
     "execution_count": 15,
     "metadata": {},
     "output_type": "execute_result"
    }
   ],
   "source": [
    "def polite_name(name):\n",
    "    return 'Mr. ' + name\n",
    "\n",
    "guests = [\"Boris\", \"Ivan\", \"Barak\"]\n",
    "guest_iterator = map(polite_name, guests)  # здесь мы применили polite_name к каждому имени  \n",
    "list(guest_iterator)"
   ]
  },
  {
   "cell_type": "markdown",
   "metadata": {},
   "source": [
    "Мы также можем использовать *map* со встроенными функциями. Вот, например, способ преобразовать строки в числа"
   ]
  },
  {
   "cell_type": "code",
   "execution_count": 16,
   "metadata": {},
   "outputs": [
    {
     "data": {
      "text/plain": [
       "[10.0, 1.0, 4.2, 0.73]"
      ]
     },
     "execution_count": 16,
     "metadata": {},
     "output_type": "execute_result"
    }
   ],
   "source": [
    "num_strings = [\"10\", \"1\", \"4.2\", \"0.73\"]  \n",
    "\n",
    "list(map(float, num_strings))"
   ]
  },
  {
   "cell_type": "markdown",
   "metadata": {},
   "source": [
    "Обратите внимание, в предыдущем примере чтобы вывести результат, нам пришлось использовать конструктор `list()`. Так происходит потому, что `map()` возвращает итератор.\n",
    "\n",
    "Еще пример"
   ]
  },
  {
   "cell_type": "code",
   "execution_count": 17,
   "metadata": {},
   "outputs": [
    {
     "data": {
      "text/plain": [
       "73"
      ]
     },
     "execution_count": 17,
     "metadata": {},
     "output_type": "execute_result"
    }
   ],
   "source": [
    "list(map(abs, [10,  -1, 42, -73]))[3]"
   ]
  },
  {
   "cell_type": "markdown",
   "metadata": {},
   "source": [
    "\n",
    "## 2.3. Лямбда-функция\n",
    "\n",
    "Лямбда-функции или, как их еще называют, анонимные функции могут содержать лишь одно выражение, и им необязательно давать имя. Анонимные функции создаются с помощью инструкции `lambda`.\n",
    "\n",
    "<u>Пример</u>. Создадим лямбда-функцию и присвоим её переменной *func*"
   ]
  },
  {
   "cell_type": "code",
   "execution_count": 18,
   "metadata": {},
   "outputs": [],
   "source": [
    "func=lambda x,y:x+y"
   ]
  },
  {
   "cell_type": "markdown",
   "metadata": {},
   "source": [
    "Теперь переменную *func* молжно использовать как обычную функцию."
   ]
  },
  {
   "cell_type": "code",
   "execution_count": 19,
   "metadata": {},
   "outputs": [
    {
     "name": "stdout",
     "output_type": "stream",
     "text": [
      "4\n",
      "fa.ru\n"
     ]
    }
   ],
   "source": [
    "print(func(1,3))\n",
    "print(func('fa','.ru'))"
   ]
  },
  {
   "cell_type": "markdown",
   "metadata": {},
   "source": [
    "Лямбда-функцию можно вызывать сразу, не используя дополнительных переменных"
   ]
  },
  {
   "cell_type": "code",
   "execution_count": 20,
   "metadata": {},
   "outputs": [
    {
     "data": {
      "text/plain": [
       "49"
      ]
     },
     "execution_count": 20,
     "metadata": {},
     "output_type": "execute_result"
    }
   ],
   "source": [
    "(lambda x,y: x**y)(7,2)"
   ]
  },
  {
   "cell_type": "markdown",
   "metadata": {},
   "source": [
    "Резюме\n",
    "\n",
    "- lambda вместо def\n",
    "- нет названия\n",
    "- аргументы без скобок\n",
    "- return не используется"
   ]
  },
  {
   "cell_type": "markdown",
   "metadata": {},
   "source": [
    "## 2.4. Лямбда + map = ♥\n",
    "\n",
    "Мы разобрались, как определять лямбда-функции, и теперь давайте попробуем применить их к map. Перепишем пример с вежливыми именами"
   ]
  },
  {
   "cell_type": "code",
   "execution_count": 21,
   "metadata": {},
   "outputs": [
    {
     "name": "stdout",
     "output_type": "stream",
     "text": [
      "['Mr. Boris', 'Mr. Ivan', 'Mr. Bob']\n"
     ]
    }
   ],
   "source": [
    "# исходная версия была такой  \n",
    "def polite_name(name):\n",
    "    return 'Mr. ' + name\n",
    "\n",
    "guests = [\"Boris\", \"Ivan\", \"Bob\"]  \n",
    "guest_iterator = list(map(polite_name, guests))\n",
    "print(guest_iterator)"
   ]
  },
  {
   "cell_type": "code",
   "execution_count": 22,
   "metadata": {},
   "outputs": [
    {
     "data": {
      "text/plain": [
       "['Mr. Boris', 'Mr. Ivan', 'Mr. Bob']"
      ]
     },
     "execution_count": 22,
     "metadata": {},
     "output_type": "execute_result"
    }
   ],
   "source": [
    "# Теперь перепишем с лямбда функцией  \n",
    "guests = [\"Boris\", \"Ivan\", \"Bob\"]\n",
    "list(map(lambda name: \"Mr. \" + name, guests))"
   ]
  },
  {
   "cell_type": "markdown",
   "metadata": {},
   "source": [
    "\n",
    "## 2.5. Функция *filter()*\n",
    "\n",
    "Есть ещё одна полезная функция, похожая на map - `filter()`. Она также принимают на вход произвольную функцию и коллекцию."
   ]
  },
  {
   "cell_type": "code",
   "execution_count": 23,
   "metadata": {},
   "outputs": [
    {
     "name": "stdout",
     "output_type": "stream",
     "text": [
      "[1, 20, 16, 5]\n",
      "[1, 33, 5]\n"
     ]
    }
   ],
   "source": [
    "nums = [1, 20, 30, 33, 16, 5]  \n",
    "      \n",
    "# оставим числа меньшие 30  \n",
    "print(list(filter(lambda x: x < 30, nums))) \n",
    "      \n",
    "# оставим только нечётные числа  \n",
    "print(list(filter(lambda x: x % 2 == 1, nums)))"
   ]
  },
  {
   "cell_type": "markdown",
   "metadata": {},
   "source": [
    "<img src=../Img/pencil.png>\n",
    "<p style=\"background-color:powderblue; font-size:125%; color: rebeccapurple;\">Выполните задания</p>\n",
    "\n",
    "1. Пусть у нас есть список слов, и мы хотим получить длину каждого слова. Например, из списка [\"Я\", \"студент\", \"Финансового\", \"университета\"] мы ожидаем получить список `[1, 7, 11, 12]` Что нам поставить на месте пропуска, чтобы выполнялась эта операция? \n",
    "\n",
    "```\n",
    "list(map(__, [\"Я\", \"студент\", \"Финансового\", \"университета\"]))\n",
    "```\n",
    "\n",
    "2. Для заданных чисел `values = [4, 8, 15, 16, 23, 42]` и их среднего значения напишите такой *filter*, который оставляет только элементы больше среднего значения."
   ]
  },
  {
   "cell_type": "markdown",
   "metadata": {},
   "source": [
    "<a id=3></a>\n",
    "[ <= ](#2)|| [Оглавление](#Ref) ||[ => ](#4)\n",
    "\n",
    "## 3. Глобальные и локальные переменные\n",
    "\n",
    "Глобальные переменные - это переменные, объявленные в программе вне функции. В Python глобальные переменные видны в любой части модуля, включая функции. Локальные переменные - это переменные, которым внутри функции присваивается значение. Если имя локальной переменной совпадает с именем глобальной переменной, то все операции внутри функции осуществляются с локальной переменной, а значение глобальной переменной не изменяется. Локальные переменные видны только внутри тела функции."
   ]
  },
  {
   "cell_type": "code",
   "execution_count": 24,
   "metadata": {},
   "outputs": [
    {
     "name": "stdout",
     "output_type": "stream",
     "text": [
      "a=7\n",
      "a=10\n",
      "a=21\n"
     ]
    }
   ],
   "source": [
    "def fun1():\n",
    "    print(f'a={a}')\n",
    "\n",
    "def fun2():\n",
    "    a=10\n",
    "    print(f'a={a}')\n",
    "\n",
    "def fun3():\n",
    "    global a\n",
    "    a*=3\n",
    "    \n",
    "a=7\n",
    "fun1()\n",
    "fun2()\n",
    "fun3()\n",
    "\n",
    "print(f'a={a}')"
   ]
  },
  {
   "cell_type": "markdown",
   "metadata": {},
   "source": [
    "<a id=4></a>\n",
    "[ <= ](#3)|| [Оглавление](#Ref) ||[ => ](#5)\n",
    "\n",
    "## 4. Переменное число параметров функции\n",
    "\n",
    "Если перед именем параметра в определении функции указать символ «*», то функции \n",
    "можно будет передать произвольное число параметров. Переданные параметры сохраняются в кортеже. Если перед именем параметра в определении функции указать две звездочки, то функции можно будет передать произвольное число именованных аргументов. Переданные параметры сохраняются в словаре.\n",
    "\n",
    "<u>Пример</u>. Написать функцию умножения, принимающую от одного до трех параметров. Представьте примеры использования этой функции с разным количеством параметров. "
   ]
  },
  {
   "cell_type": "code",
   "execution_count": 25,
   "metadata": {},
   "outputs": [],
   "source": [
    "def fun(*a):\n",
    "    p=1\n",
    "    for x in a:\n",
    "        p=p*x\n",
    "    return p"
   ]
  },
  {
   "cell_type": "code",
   "execution_count": 26,
   "metadata": {},
   "outputs": [
    {
     "name": "stdout",
     "output_type": "stream",
     "text": [
      "6\n",
      "504\n",
      "2\n"
     ]
    }
   ],
   "source": [
    "print(fun(1,2,3))\n",
    "print(fun(7,8,9))\n",
    "print(fun(2))"
   ]
  },
  {
   "cell_type": "markdown",
   "metadata": {},
   "source": [
    "<a id=5></a>\n",
    "[ <= ](#4)|| [Оглавление](#Ref) ||[ => ](#6)\n",
    "\n",
    "## 5. Хранение функций в модулях\n",
    "\n",
    "Функции можно хранить в модулях - отдельных текстовых файлах. Сохраните следующую функцию в текстовом файле с именем *pizza.py*, при сохранении используйте кодировку UTF-8.\n",
    "\n",
    "```\n",
    "def cook_pizza(size, *toppings):\n",
    "    \"\"\"Выводит описание пиццы\"\"\"\n",
    "    print(f\"Готовим вкусную {size}-дюймовую пиццу с начинкой:\")\n",
    "    for t in toppings:\n",
    "        print(f'- {t}')\n",
    "```\n",
    "\n",
    "Один модуль может содержать множество функций. Чтобы использовать в программе такую функцию, необходимо ее импортировать. Это можно сделать двумя способами: \n",
    "\n",
    "1) импортировать весь модуль;\n",
    "\n",
    "`import <module>`\n",
    "\n",
    "2) импортировать конкретные функции модуля.\n",
    "\n",
    "`from <module> import <function_0[, function_1, function_2, ..]>`\n",
    "\n",
    "В первом случае все функции модуля становятся доступными в программе. При этом для вызова функции необходимо указывать ее имя через точку после имени или псевдонима модуля, если псевдоним модуля был задан. Во втором случае импортируются только указанные функции модуля, для вызова функции имя модуля не указывается."
   ]
  },
  {
   "cell_type": "code",
   "execution_count": 27,
   "metadata": {
    "scrolled": true
   },
   "outputs": [
    {
     "name": "stdout",
     "output_type": "stream",
     "text": [
      "Готовим вкусную 12-дюймовую пиццу с начинкой:\n",
      "- моцарелла\n",
      "- помидоры\n",
      "- петрушка\n",
      "Готовим вкусную 13-дюймовую пиццу с начинкой:\n",
      "- пармезан\n",
      "- каперсы\n",
      "- лук\n",
      "- помидоры\n"
     ]
    }
   ],
   "source": [
    "import pizza\n",
    "pizza.cook_pizza(12, *('моцарелла','помидоры','петрушка'))\n",
    "pizza.cook_pizza(13, *('пармезан','каперсы','лук','помидоры'))"
   ]
  },
  {
   "cell_type": "markdown",
   "metadata": {},
   "source": [
    "## Итоги\n",
    "\n",
    "<img src=\"../Img/summary.jpg\">\n",
    "\n",
    "Функции помогают организовать код программы, структурируют программу, значительно облегчают ее понимание и использование. В этой лекции мы изучили способы создания и использования функций. Изучили способы передачи аргументов в функцию и особенности использования в функциях глобальных и локальных переменных. Мы познакомились с анонимными функциями - популярным инструментом, который при умелом использовании помогает сократить код и сделать программу более наглядной. В завершении мы научились сохранять функции в модулях."
   ]
  }
 ],
 "metadata": {
  "kernelspec": {
   "display_name": "Python 3 (ipykernel)",
   "language": "python",
   "name": "python3"
  },
  "language_info": {
   "codemirror_mode": {
    "name": "ipython",
    "version": 3
   },
   "file_extension": ".py",
   "mimetype": "text/x-python",
   "name": "python",
   "nbconvert_exporter": "python",
   "pygments_lexer": "ipython3",
   "version": "3.9.12"
  }
 },
 "nbformat": 4,
 "nbformat_minor": 4
}
