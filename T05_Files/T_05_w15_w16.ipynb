{
 "cells": [
  {
   "cell_type": "markdown",
   "metadata": {},
   "source": [
    "<img src=../Img/banner.png>\n",
    "\n",
    "18 ноября 2022 года<br>\n",
    "Семинар, 11:50 - 13:20, 3-я пара<br>\n",
    "В4/3709(кк), 4-й Вешняковский проезд, 4<br>\n",
    "Группа БИ22-13<br>\n",
    "\n",
    "18 ноября 2022 года<br>\n",
    "Семинар, 15:40 - 17:10, 5-я пара<br>\n",
    "В4/3411(кк), 4-й Вешняковский проезд, 4<br>\n",
    "Группа БИ22-13<br>\n",
    "\n",
    "Преподаватель: Смирнов Михаил Викторович, доцент Департамента Анализа данных и машинного обучения Финансового университета при Правительстве Российской Федерации\n",
    "<p style=\"font-size:150%; text-align:left\">Тема 5. Работа с файлами и обработка исключительных ситуаций</p>\n",
    "<p style=\"font-size:150%; text-align:left\">5.2. Работа с XML файлами</p>"
   ]
  },
  {
   "cell_type": "markdown",
   "metadata": {},
   "source": [
    "На прошлом занятии (5.1) мы изучили работу с файлами в формате JSON. Мы освоили первый раздел \"Файлы JSON\" и следующие подразделы:\n",
    "\n",
    "    1.1. Получение данных в формате JSON\n",
    "    1.2. Группировка данных\n",
    "    1.3. Создание JSON-файла\n",
    "\n",
    "Сегодня мы продолжим изучать технологии работы с файлами и узнаем, как обрабатывать информацию в формате XML.\n",
    "\n",
    "## 2. Обработка данных в формате XML\n",
    "\n",
    "## 2.1. О формате XML\n",
    "\n",
    "<p style=\"font-size:120%; color:green\">Вот так выглядит XML файл:</p>\n",
    "\n",
    "```\n",
    "<data>      \n",
    "    <items>    \n",
    "        <item name=\"item1\">item1abc</item>    \n",
    "        <item name=\"item2\">item2abc</item>    \n",
    "    </items>    \n",
    "</data>  \n",
    "```\n",
    "XML похож на HTML.\n",
    "\n",
    "XML расшифровывается как eXtensible Markup Language — расширяемый язык разметки. Он позволяет описывать документы, используя теги. В отличие от HTML, где теги заранее четко заданы, в XML мы можем задавать теги сами.\n",
    "\n",
    "Например, по образцу кода выше, мы можем составить меню ресторана.\n",
    "\n",
    "```\n",
    "<menu>    \n",
    "    <dish name=\"Курятина\">  \n",
    "        <price>40</price>  \n",
    "        <weight>300</weight>  \n",
    "        <class>Мясо</class>  \n",
    "    </dish>\n",
    "    <dish name=\"Гречка\">  \n",
    "        <price>20</price>  \n",
    "        <weight>200</weight>  \n",
    "        <class>Крупа</class>  \n",
    "    </dish>\n",
    "</menu>  \n",
    "```\n",
    "\n",
    "В этом примере жесткая структура: есть меню, в нём — объекты, помеченные тегом `<dish>`, у каждого из которых есть параметр *name*, в котором прописано имя объекта. В данном случае можно считать, что *dish* — это класс этого объекта.\n",
    "\n",
    "Внутри каждого объекта находится набор значений, которые тоже задаются тегами. Например, внутри тега `<price>` находится значение 20, означающее цену данного блюда. Тег `<price>` и другие теги внутри `<dish>` можно рассматривать как атрибуты класса dish.\n",
    "\n",
    "Чаще всего, файлы XML имеют структуру, так как такие файлы генерируются кодом, и читаются тоже кодом. Поэтому при наличии понятной структуры обработка файла становится намного проще.\n",
    "\n",
    "\n",
    "### Как работают с XML?\n",
    "\n",
    "XML-файлы имеют древовидную структуру. Это значит, что в файле используется набор тегов, внутри которых могут находиться другие теги со своими значениями.\n",
    "\n",
    "В каком-то смысле XML похож на JSON или даже просто на словарь со значениями. XML-файл можно преобразовать в JSON и в Python-словарь. После этого вы сможете пользоваться стандартными средствами языка Python для работы с этими данными, не задумываясь о том, в каком формате они к вам пришли.\n",
    "\n",
    "Это не единственный способ работать с XML в Python. В стандартной библиотеке языка есть пакет, который позволяет работать с XML напрямую. В дальнейшем мы разберём его подробнее и сможем читать, модифицировать и записывать файлы XML.\n",
    "    \n",
    "Если у вас нет времени разбираться с программированием, вам прислали XML-файл, и вы просто хотите посмотреть на него или превратить его в JSON, можно воспользоваться любым из многочисленных онлайн-сервисов, например, https://codebeautify.org/xmlviewer\n",
    "\n",
    "Ниже представлен резульльтат преобразования XML-файла в файл JSON с помощью указанного онлайн-сервиса.\n",
    "\n",
    "### Result : XML to JSON\n",
    "```\n",
    "{\n",
    "\t\"menu\": {\n",
    "\t\t\"dish\": [\n",
    "\t\t\t{\n",
    "\t\t\t\t\"price\": \"40\",\n",
    "\t\t\t\t\"weight\": \"300\",\n",
    "\t\t\t\t\"class\": \"Мясо\",\n",
    "\t\t\t\t\"_name\": \"Кура\"\n",
    "\t\t\t},\n",
    "\t\t\t{\n",
    "\t\t\t\t\"price\": \"20\",\n",
    "\t\t\t\t\"weight\": \"200\",\n",
    "\t\t\t\t\"class\": \"Крупа\",\n",
    "\t\t\t\t\"_name\": \"Греча\"\n",
    "\t\t\t}\n",
    "\t\t]\n",
    "\t}\n",
    "}\n",
    "```\n",
    "\n",
    "\n",
    "<p style=\"font-size:130%\"> Задание 3.1.1</p>\n",
    "\n",
    "Какой код можно использовать для получения информации о стоимости гречи после десериализации объекта, структура которого показана на рисунке выше? Предположим, что данные хранятся в переменной с именем food.\n",
    "- food['menu']['dish']['Греча']\n",
    "- food['menu']['dish']['_name' == 'Греча']\n",
    "- food['menu']['dish']['price']\n",
    "- food['menu']['dish'][1]['price']\n",
    "- food['menu']['dish']['_name' == 'Греча']['price']\n",
    "\n"
   ]
  },
  {
   "cell_type": "code",
   "execution_count": 1,
   "metadata": {},
   "outputs": [],
   "source": [
    "# Ваш ответ здесь\n",
    "\n"
   ]
  },
  {
   "cell_type": "markdown",
   "metadata": {},
   "source": [
    "## 3.2. Извлечение данных из XML-файла\n",
    "\n",
    "Как мы увидели выше, данные в формате *XML* имеют древовидную структуру. \n",
    "\n",
    "Дерево — это структура, которая имеет узлы и связи между ними. Самый верхнеуровневый узел называется корнем, а всё, что находится в самом низу, называется листьями. В примере выше корнем является `<menu>`, а листьями, например, `<price>` и `<weight>`. \n",
    "\n",
    "У `<menu>` есть дети (потомки) — это два узла `<dish>`, имеющие разный атрибут *name*.\n",
    "\n",
    "Мы будем пользоваться модулем *ElementTree*, входящим в стандартный пакет *xml*. Этот модуль позволит нам ходить по дереву *XML* и смотреть, что находится в каждом его узле, начиная с корня и заканчивая листьями. Импортируем модуль:"
   ]
  },
  {
   "cell_type": "code",
   "execution_count": 2,
   "metadata": {},
   "outputs": [],
   "source": [
    "import xml.etree.ElementTree as ET"
   ]
  },
  {
   "cell_type": "markdown",
   "metadata": {},
   "source": [
    "<p style=\"font-size:130%\">Задание 3.2.1</p>\n",
    "\n",
    "Сколько корней может быть у дерева, описывающего структуру XML-документа?\n",
    "- Ноль\n",
    "- Один\n",
    "- Сколько угодно\n",
    "- У дерева нет корней "
   ]
  },
  {
   "cell_type": "code",
   "execution_count": 3,
   "metadata": {},
   "outputs": [],
   "source": [
    "# Ваш ответ здесь\n",
    "\n"
   ]
  },
  {
   "cell_type": "markdown",
   "metadata": {},
   "source": [
    "### Чтение файла"
   ]
  },
  {
   "cell_type": "code",
   "execution_count": 4,
   "metadata": {
    "scrolled": true
   },
   "outputs": [],
   "source": [
    "tree=ET.parse('../Data/menu.xml')\n",
    "root=tree.getroot()"
   ]
  },
  {
   "cell_type": "markdown",
   "metadata": {},
   "source": [
    "Здесь в переменной *tree* мы читаем всё дерево из XML файла. После этого в переменную *root* записываем корневой узел дерева *tree*. Давайте посмотрим, как выглядит *root*."
   ]
  },
  {
   "cell_type": "code",
   "execution_count": 5,
   "metadata": {
    "scrolled": true
   },
   "outputs": [
    {
     "name": "stdout",
     "output_type": "stream",
     "text": [
      "<Element 'menu' at 0x0000021514FC5590>\n"
     ]
    }
   ],
   "source": [
    "print(root)"
   ]
  },
  {
   "cell_type": "markdown",
   "metadata": {},
   "source": [
    "Мы видим, что в корне находится 'menu'. Всё правильно, мы хотели увидеть именно это. Какой тип у этого объекта? "
   ]
  },
  {
   "cell_type": "code",
   "execution_count": 6,
   "metadata": {},
   "outputs": [
    {
     "data": {
      "text/plain": [
       "xml.etree.ElementTree.Element"
      ]
     },
     "execution_count": 6,
     "metadata": {},
     "output_type": "execute_result"
    }
   ],
   "source": [
    "type(root)"
   ]
  },
  {
   "cell_type": "markdown",
   "metadata": {},
   "source": [
    "Как посмотреть список детей (потомков) корня? Используем функцию *list()*."
   ]
  },
  {
   "cell_type": "code",
   "execution_count": 7,
   "metadata": {
    "scrolled": true
   },
   "outputs": [
    {
     "data": {
      "text/plain": [
       "[<Element 'dish' at 0x0000021514FC55E0>,\n",
       " <Element 'dish' at 0x0000021514FC5720>]"
      ]
     },
     "execution_count": 7,
     "metadata": {},
     "output_type": "execute_result"
    }
   ],
   "source": [
    "list(root)"
   ]
  },
  {
   "cell_type": "markdown",
   "metadata": {},
   "source": [
    "Кроме того, *tree.getroot()* - итерируемый объект."
   ]
  },
  {
   "cell_type": "code",
   "execution_count": 8,
   "metadata": {},
   "outputs": [
    {
     "name": "stdout",
     "output_type": "stream",
     "text": [
      "<Element 'menu' at 0x0000021514FC5590>\n",
      "<Element 'menu' at 0x0000021514FC5590>\n"
     ]
    }
   ],
   "source": [
    "for item in root:\n",
    "    print(root)"
   ]
  },
  {
   "cell_type": "markdown",
   "metadata": {},
   "source": [
    "Если у узла нет детей, список *list(root)* окажется пустым."
   ]
  },
  {
   "cell_type": "markdown",
   "metadata": {},
   "source": [
    "<p style=\"font-size:130%\">Задание 3.2.2</p>\n",
    "\n",
    "Допустим, у узла *X* один ребёнок. Объект какого типа вернет функция *list(X)?*\n",
    "\n",
    "- xml.etree.ElementTree\n",
    "- xml.etree.ElementTree.Element\n",
    "- list\n",
    "- Зависит от ребёнка\n",
    "\n",
    "### Работа с ElementTree в Python\n",
    "\n",
    "Таким образом, можно работать с деревом *XML* как со списком, если мы используем *ElementTree*. Каждый узел будет являться списком, в котором находятся его узлы-дети. Это значит, что код:"
   ]
  },
  {
   "cell_type": "code",
   "execution_count": 9,
   "metadata": {},
   "outputs": [
    {
     "data": {
      "text/plain": [
       "<Element 'dish' at 0x0000021514FC55E0>"
      ]
     },
     "execution_count": 9,
     "metadata": {},
     "output_type": "execute_result"
    }
   ],
   "source": [
    "root[0]"
   ]
  },
  {
   "cell_type": "markdown",
   "metadata": {},
   "source": [
    "открывает нам доступ к первому (с индексом 0) потомку корня XML-файла. Этот потомок также является итерируемым объектом."
   ]
  },
  {
   "cell_type": "code",
   "execution_count": 10,
   "metadata": {},
   "outputs": [
    {
     "name": "stdout",
     "output_type": "stream",
     "text": [
      "<Element 'price' at 0x0000021514FC5630>\n",
      "<Element 'weight' at 0x0000021514FC5680>\n",
      "<Element 'class' at 0x0000021514FC56D0>\n"
     ]
    }
   ],
   "source": [
    "for item in root[0]:\n",
    "    print(item)"
   ]
  },
  {
   "cell_type": "markdown",
   "metadata": {},
   "source": [
    "Ранее мы видели, что у узлов могут быть атрибуты.  Например, у узлов *dish* есть атрибут *name*. С помощью команды *.attrib* мы получаем словарь, ключом которого являются имена, а значениями — значения атрибутов узлового элемента."
   ]
  },
  {
   "cell_type": "code",
   "execution_count": 11,
   "metadata": {},
   "outputs": [
    {
     "name": "stdout",
     "output_type": "stream",
     "text": [
      "{'name': 'Кура'}\n"
     ]
    }
   ],
   "source": [
    "print(root[0].attrib)"
   ]
  },
  {
   "cell_type": "markdown",
   "metadata": {},
   "source": [
    "### Чтение значений узлов\n",
    "\n",
    "В тегах XML часто заключены количественные показатели. Эти показатели хранятся в виде текста, и прочитать их можно, обратившись к свойству *.text* соответствующего объекта типа *ElementTree.Element*. Например, возьмем тег *price* и обратимся к его свойству *text:*"
   ]
  },
  {
   "cell_type": "code",
   "execution_count": 12,
   "metadata": {
    "scrolled": true
   },
   "outputs": [
    {
     "name": "stdout",
     "output_type": "stream",
     "text": [
      "<Element 'price' at 0x0000021514FC5630>\n",
      "40\n"
     ]
    }
   ],
   "source": [
    "print(root[0][0])\n",
    "\n",
    "print(root[0][0].text)"
   ]
  },
  {
   "cell_type": "markdown",
   "metadata": {},
   "source": [
    "Таким образом можно пройтись по всему дереву XML и прочитать значения в листьях. Если файл имеет четкую структуру, его во многих случаях можно превратить в таблицу.\n",
    "\n",
    "Заметьте, что значение '40' представлено строкой. Все значения в XML хранятся как строки, поэтому преобразовывать их к нужному типу вам нужно самим. Например, в данном случае можно передать значение стоимости в *int()* или *float()*.\n",
    "\n",
    "Если вы хотите прочитать название тега, можно использовать свойство *tag*, например:"
   ]
  },
  {
   "cell_type": "code",
   "execution_count": 13,
   "metadata": {},
   "outputs": [
    {
     "name": "stdout",
     "output_type": "stream",
     "text": [
      "price\n"
     ]
    }
   ],
   "source": [
    "print(root[0][0].tag)"
   ]
  },
  {
   "cell_type": "markdown",
   "metadata": {},
   "source": [
    "<p style=\"font-size:130%; color:green\">Задание 3.2.3</p>\n",
    "\n",
    "Какое имя тега у листа root[0][1]?\n",
    "\n",
    "### Использование циклов\n",
    "Так как к узлам можно обращаться как к спискам, можно использовать циклы для итерации по детям узлов.\n",
    "\n",
    "Например, если мы хотим напечатать название блюда, а также все названия параметров и их значения в листьях, то поможет следующий код:"
   ]
  },
  {
   "cell_type": "code",
   "execution_count": 14,
   "metadata": {},
   "outputs": [
    {
     "name": "stdout",
     "output_type": "stream",
     "text": [
      "{'name': 'Кура'}\n",
      "\t price 40\n",
      "\t weight 300\n",
      "\t class Мясо\n",
      "{'name': 'Греча'}\n",
      "\t price 20\n",
      "\t weight 200\n",
      "\t class Крупа\n"
     ]
    }
   ],
   "source": [
    "for item in root:\n",
    "    print(item.attrib)\n",
    "    for jtem in item:\n",
    "        print(\"\\t\", jtem.tag, jtem.text)"
   ]
  },
  {
   "cell_type": "markdown",
   "metadata": {},
   "source": [
    "Или, например, мы можем создать список словарей. Для этого создадим вложенный цикл."
   ]
  },
  {
   "cell_type": "code",
   "execution_count": 15,
   "metadata": {},
   "outputs": [
    {
     "name": "stdout",
     "output_type": "stream",
     "text": [
      "[{'name': 'Кура', 'price': '40', 'weight': '300', 'class': 'Мясо'}, {'name': 'Греча', 'price': '20', 'weight': '200', 'class': 'Крупа'}]\n"
     ]
    }
   ],
   "source": [
    "m1=[]\n",
    "for item in root:\n",
    "    d1=item.attrib # d1 - словарь\n",
    "    for jtem in item:\n",
    "        d1[jtem.tag]=jtem.text\n",
    "    m1.append(d1)\n",
    "print(m1)"
   ]
  },
  {
   "cell_type": "markdown",
   "metadata": {},
   "source": [
    "Далее мы можем использовать различные методы, позволяющие обрабатывать данные в словарях. Например, с помощью `get()` можно получить значение ключа. "
   ]
  },
  {
   "cell_type": "code",
   "execution_count": 16,
   "metadata": {},
   "outputs": [
    {
     "data": {
      "text/plain": [
       "'Греча'"
      ]
     },
     "execution_count": 16,
     "metadata": {},
     "output_type": "execute_result"
    }
   ],
   "source": [
    "m1[1].get('name')"
   ]
  },
  {
   "cell_type": "markdown",
   "metadata": {},
   "source": [
    "Если вы хотите узнать, сколько детей у данного узла, можно воспользоваться функией `len()` и передать в него интересующий вас узел. Например, `len(root)` вернет 2, так как у него два ребенка — два объекта `dish`."
   ]
  },
  {
   "cell_type": "code",
   "execution_count": 17,
   "metadata": {},
   "outputs": [
    {
     "data": {
      "text/plain": [
       "2"
      ]
     },
     "execution_count": 17,
     "metadata": {},
     "output_type": "execute_result"
    }
   ],
   "source": [
    "len(root)"
   ]
  },
  {
   "cell_type": "markdown",
   "metadata": {},
   "source": [
    "<p style=\"font-size:130%\">Задание 3.2.4</p>\n",
    "\n",
    "Посчитайте, сколько детей у второго объекта *dish*."
   ]
  },
  {
   "cell_type": "code",
   "execution_count": 18,
   "metadata": {},
   "outputs": [],
   "source": [
    "# 3.2.4 Ваш код здесь\n",
    "\n"
   ]
  },
  {
   "cell_type": "markdown",
   "metadata": {},
   "source": [
    "## 3.3. Создание DataFrame и JSON из XML\n",
    "\n",
    "### Превращение XML в pandas.DataFrame "
   ]
  },
  {
   "cell_type": "code",
   "execution_count": 19,
   "metadata": {},
   "outputs": [
    {
     "data": {
      "text/html": [
       "<div>\n",
       "<style scoped>\n",
       "    .dataframe tbody tr th:only-of-type {\n",
       "        vertical-align: middle;\n",
       "    }\n",
       "\n",
       "    .dataframe tbody tr th {\n",
       "        vertical-align: top;\n",
       "    }\n",
       "\n",
       "    .dataframe thead th {\n",
       "        text-align: right;\n",
       "    }\n",
       "</style>\n",
       "<table border=\"1\" class=\"dataframe\">\n",
       "  <thead>\n",
       "    <tr style=\"text-align: right;\">\n",
       "      <th></th>\n",
       "      <th>name</th>\n",
       "      <th>price</th>\n",
       "      <th>weight</th>\n",
       "      <th>class</th>\n",
       "    </tr>\n",
       "  </thead>\n",
       "  <tbody>\n",
       "    <tr>\n",
       "      <th>0</th>\n",
       "      <td>Кура</td>\n",
       "      <td>40</td>\n",
       "      <td>300</td>\n",
       "      <td>Мясо</td>\n",
       "    </tr>\n",
       "    <tr>\n",
       "      <th>1</th>\n",
       "      <td>Греча</td>\n",
       "      <td>20</td>\n",
       "      <td>200</td>\n",
       "      <td>Крупа</td>\n",
       "    </tr>\n",
       "  </tbody>\n",
       "</table>\n",
       "</div>"
      ],
      "text/plain": [
       "    name price weight  class\n",
       "0   Кура    40    300   Мясо\n",
       "1  Греча    20    200  Крупа"
      ]
     },
     "execution_count": 19,
     "metadata": {},
     "output_type": "execute_result"
    }
   ],
   "source": [
    "import pandas as pd\n",
    "pd.DataFrame(m1)"
   ]
  },
  {
   "cell_type": "markdown",
   "metadata": {},
   "source": [
    "<p style=\"font-size:130%\"> Задание 3.3.1</p>\n",
    "\n",
    "Можем ли мы использовать метод `get()`, чтобы получить значения, лежащие внутри объектов dish? То есть, значения дочерних узлов у узла dish. Например, значение \"Крупа\".\n",
    "\n",
    "- Да, потому что дочерние узлы хранятся в виде словаря\n",
    "- Нет, потому что дочерние узлы хранятся в виде списка"
   ]
  },
  {
   "cell_type": "code",
   "execution_count": 20,
   "metadata": {},
   "outputs": [],
   "source": [
    "# Ваш код здесь\n",
    "\n"
   ]
  },
  {
   "cell_type": "markdown",
   "metadata": {},
   "source": [
    "### Превращение XML в JSON\n",
    "\n",
    "Ранее вы могли обратить внимание, что XML похож на JSON. Для Python есть несколько сторонних библиотек, которые позволяют трансформировать XML в JSON. Одна из таких библиотек (пакетов) — <a href=\"https://pypi.org/project/xmljson/\">xmljson</a>. Есть несколько принятых соглашений (conventions) по превращению XML в JSON. Рассмотрим простой пример, прежде чем работать с нашими данными. Допустим, наши данные выглядят так:\n",
    "\n",
    "```\n",
    "<p id=\"1\">text</p>  \n",
    "```\n",
    "\n",
    "Тогда для соглашения <a href=\"http://www.sklar.com/badgerfish/\">badgerfish</a> данные будут выглядеть так:\n",
    "\n",
    "    {  \n",
    "      'p': {  \n",
    "        '@id': 1,  \n",
    "        '$': 'text'  \n",
    "      }  \n",
    "    } \n",
    "\n",
    "Названия атрибутов предваряются символом @, значения помечаются символом $.\n",
    "\n",
    "Соглашение <a href=\"http://wiki.open311.org/JSON_and_XML_Conversion/#the-gdata-convention\">gdata</a>:\n",
    "\n",
    "\n",
    "    {  \n",
    "      'p': {  \n",
    "        '$t': 'text'  \n",
    "      }  \n",
    "    }  \n",
    "\n",
    "Это соглашение не поддерживает атрибуты. Значение помечено как $t.\n",
    "\n",
    "Соглашение <a href=\"https://developer.mozilla.org/en-US/docs/JXON#The_Parker_Convention\">parker</a>:\n",
    "\n",
    "    {  \n",
    "      'p': 'text'  \n",
    "    }  \n",
    "\n",
    "Атрибуты также не поддерживаются. Видно, что это самый простой способ представить XML в виде JSON: значение тега записывается как значение в словаре, где ключ — название тега. Переведем наши данные в JSON с помощью соглашения *parker:*"
   ]
  },
  {
   "cell_type": "code",
   "execution_count": 21,
   "metadata": {},
   "outputs": [
    {
     "name": "stdout",
     "output_type": "stream",
     "text": [
      "Requirement already satisfied: xmljson in c:\\users\\myfri\\anaconda3\\lib\\site-packages (0.2.1)\n",
      "Note: you may need to restart the kernel to use updated packages.\n"
     ]
    }
   ],
   "source": [
    "pip install xmljson"
   ]
  },
  {
   "cell_type": "code",
   "execution_count": 22,
   "metadata": {},
   "outputs": [
    {
     "data": {
      "text/plain": [
       "OrderedDict([('dish',\n",
       "              [OrderedDict([('price', 40),\n",
       "                            ('weight', 300),\n",
       "                            ('class', 'Мясо')]),\n",
       "               OrderedDict([('price', 20),\n",
       "                            ('weight', 200),\n",
       "                            ('class', 'Крупа')])])])"
      ]
     },
     "execution_count": 22,
     "metadata": {},
     "output_type": "execute_result"
    }
   ],
   "source": [
    "import xmljson\n",
    "xmljson.parker.data(root)"
   ]
  },
  {
   "cell_type": "markdown",
   "metadata": {},
   "source": [
    "Значения хранятся в формате OrderedDict. Почему не просто в dict? Потому что в XML значения хранятся упорядоченно, в отличие просто от словаря.\n",
    "\n",
    "Что здесь произошло?\n",
    "\n",
    "Импортировали пакет xmljson.\n",
    "Вызвали метод data() класса parker, который находится в пакете. В метод передали корень нашего дерева XML.\n",
    "Если вы захотите использовать другое соглашение, просто замените в коде название одного соглашения на название другого. Например,\n",
    "\n",
    "```\n",
    "xmljson.gdata.data(root)\n",
    "```\n",
    "\n",
    "Как превратить JSON обратно в XML? Использовать метод etree() у класса-соглашения:"
   ]
  },
  {
   "cell_type": "code",
   "execution_count": 23,
   "metadata": {},
   "outputs": [],
   "source": [
    "parker_json = xmljson.parker.data(root)  \n",
    "back_to_xml = xmljson.parker.etree(parker_json)"
   ]
  },
  {
   "cell_type": "raw",
   "metadata": {},
   "source": [
    "В переменной back_to_xml будет храниться наш изначальный XML-файл в формате списка, содержащего дочерние узлы корня дерева:"
   ]
  },
  {
   "cell_type": "code",
   "execution_count": 24,
   "metadata": {},
   "outputs": [
    {
     "data": {
      "text/plain": [
       "[<Element dish at 0x215174211c0>, <Element dish at 0x21517421380>]"
      ]
     },
     "execution_count": 24,
     "metadata": {},
     "output_type": "execute_result"
    }
   ],
   "source": [
    "back_to_xml"
   ]
  },
  {
   "cell_type": "code",
   "execution_count": 25,
   "metadata": {},
   "outputs": [
    {
     "name": "stdout",
     "output_type": "stream",
     "text": [
      "None\n",
      "\t price : 40\n",
      "\t weight : 300\n",
      "\t class : Мясо\n",
      "None\n",
      "\t price : 20\n",
      "\t weight : 200\n",
      "\t class : Крупа\n"
     ]
    }
   ],
   "source": [
    "for item in back_to_xml:\n",
    "    print(item.get(\"name\"))\n",
    "    for jtem in item:\n",
    "        print(f\"\\t {jtem.tag} : {jtem.text}\")"
   ]
  },
  {
   "cell_type": "markdown",
   "metadata": {},
   "source": [
    "## 3.4 Запись в XML-файл\n",
    "\n",
    "Осталось самое последнее — научиться создавать свои XML файлы.\n",
    "\n",
    "Чтобы создать корень дерева, нужно использовать метод `Element()` из класса ElementTree:"
   ]
  },
  {
   "cell_type": "code",
   "execution_count": 33,
   "metadata": {},
   "outputs": [],
   "source": [
    "new_root=ET.Element('menu')"
   ]
  },
  {
   "cell_type": "markdown",
   "metadata": {},
   "source": [
    "Теперь мы можем добавлять новые узлы в дерево, используя метод SubElement из того же класса:"
   ]
  },
  {
   "cell_type": "code",
   "execution_count": 34,
   "metadata": {},
   "outputs": [
    {
     "data": {
      "text/plain": [
       "[<Element 'dish' at 0x000002151733C590>,\n",
       " <Element 'dish' at 0x000002151733C7C0>]"
      ]
     },
     "execution_count": 34,
     "metadata": {},
     "output_type": "execute_result"
    }
   ],
   "source": [
    "dish_1 = ET.SubElement(new_root, 'dish')\n",
    "dish_2 = ET.SubElement(new_root, 'dish')\n",
    "list(new_root)"
   ]
  },
  {
   "cell_type": "markdown",
   "metadata": {},
   "source": [
    "Ровно то, что мы ожидали увидеть. \n",
    "\n",
    "Атрибуты можно добавить с помощью метода set(), передав первым параметром название атрибута, а вторым его значение:"
   ]
  },
  {
   "cell_type": "code",
   "execution_count": 35,
   "metadata": {},
   "outputs": [],
   "source": [
    "dish_1.set('name', 'Кура')\n",
    "dish_2.set('name', 'Батон')"
   ]
  },
  {
   "cell_type": "markdown",
   "metadata": {},
   "source": [
    "Значение тега можно задать через уже знакомый вам параметр text:"
   ]
  },
  {
   "cell_type": "code",
   "execution_count": 36,
   "metadata": {},
   "outputs": [],
   "source": [
    "dish_1.text = 'Белки'\n",
    "dish_2.text = 'Углеводы'"
   ]
  },
  {
   "cell_type": "markdown",
   "metadata": {},
   "source": [
    "Теперь запишем получившийся XML файл на диск, используя стандартные средства Python. Сначала превратим объект типа ElementTree.Element в строку (str) c помощью метода *tostring()*, передав наше новое дерево как аргумент:"
   ]
  },
  {
   "cell_type": "code",
   "execution_count": 37,
   "metadata": {},
   "outputs": [],
   "source": [
    "new_root_string = ET.tostring(new_root)"
   ]
  },
  {
   "cell_type": "markdown",
   "metadata": {},
   "source": [
    "Теперь запишем строку на диск:"
   ]
  },
  {
   "cell_type": "code",
   "execution_count": 38,
   "metadata": {},
   "outputs": [],
   "source": [
    "with open(\"new_menu.xml\", \"wb\") as f:\n",
    "    f.write(new_root_string)"
   ]
  },
  {
   "cell_type": "markdown",
   "metadata": {},
   "source": [
    "ElementTree вернул нам строку в байтовом представлении. Мы создали новый файл new_menu.xml и записали в него результат.\n",
    "\n",
    "Откроем и посмотрим, что получилось:\n",
    "```\n",
    "<menu>\n",
    "\t<dish name=\"&#1050;&#1091;&#1088;&#1072;\">&#1041;&#1077;&#1083;&#1082;&#1080;</dish>\n",
    "\t<dish name=\"&#1041;&#1072;&#1090;&#1086;&#1085;\">&#1059;&#1075;&#1083;&#1077;&#1074;&#1086;&#1076;&#1099;</dish>\n",
    "</menu>\n",
    "```"
   ]
  },
  {
   "cell_type": "markdown",
   "metadata": {},
   "source": [
    "Почему так получилось? Потому что мы не указали кодировку для записи. Но для bytes-формата нет возможности указать кодировку при записи. Что делать? Можно записать файл, используя сам класс ElementTree:"
   ]
  },
  {
   "cell_type": "code",
   "execution_count": 39,
   "metadata": {},
   "outputs": [],
   "source": [
    "ET.ElementTree(new_root).write('new_menu_good.xml', encoding=\"utf-8\")  "
   ]
  },
  {
   "cell_type": "markdown",
   "metadata": {},
   "source": [
    "Теперь все хорошо :)\n",
    "\n",
    "```\n",
    "<menu>\n",
    "\t<dish name=\"Кура\">Белки</dish>\n",
    "\t<dish name=\"Батон\">Углеводы</dish>\n",
    "</menu>\n",
    "```\n",
    "\n",
    "\n",
    "<p style=\"font-size:130%\"> Задание 3.4.1</p>\n",
    "\n",
    "Выберите верные утверждения.\n",
    "\n",
    "- С помощью ElementTree.Element() можно создать корень дерева\n",
    "- С помощью ElementTree.Element() можно создать 10 корней для десяти разных деревьев\n",
    "- С помощью ElementTree.SubElement() можно создать узел-потомок только у корня\n",
    "- С помощью ElementTree.SubElement() можно создать узел-потомок у любого узла\n",
    "- С помощью ElementTree.SubElement() можно создать корень дерева\n",
    "\n",
    "\n",
    "<p style=\"font-size:130%\"> Задание 3.4.2\n",
    "\n",
    "Как записать XML файл в нужной нам кодировке на диск?\n",
    "\n",
    "- С помощью стандартных средств Python: open() и write()\n",
    "- С помощью метода ElementTree.write()\n",
    "- Оба варианты верны\n",
    "- Оба варианта неверны\n",
    "\n",
    "\n",
    "<p style=\"font-size:130%\"> Задание 3.4.3</p>\n",
    "\n",
    "Можно ли создать корень дерева, добавить ему два узла-потомка и каждому из них задать разные наборы атрибутов?\n",
    "\n",
    "- Да\n",
    "- Нет\n",
    "\n",
    "\n",
    "## 4. Пройдите тестирование\n",
    "\n",
    "<p style=\"font-size:130%\"> Задание 4.1</p>\n",
    "\n",
    "JSON-файл — это файл, написанный на языке Java Script:\n",
    "- верно\n",
    "- неверно\n",
    "\n",
    "\n",
    "<p style=\"font-size:130%\"> Задание 4.2</p>\n",
    "\n",
    "После десериализации JSON-файл в Python автоматически преобразуется в\n",
    "- список\n",
    "- словарь\n",
    "- строку\n",
    "- Pandas DataFrame\n",
    "- ndarray\n",
    "\n",
    "\n",
    "<p style=\"font-size:130%\"> Задание 4.3</p>\n",
    "\n",
    "Для преобразования словаря или списка в формат JSON можно использовать метод:\n",
    "- dump()\n",
    "- dumps()\n",
    "- оба метода\n",
    "- ни один из названных методов\n",
    "\n",
    "\n",
    "<p style=\"font-size:130%\"> Задание 4.4</p>\n",
    "\n",
    "Если вы прочитали Excel файл с помощью pd.read_excel(), какого типа будет получившийся объект?\n",
    "- np.ndarray\n",
    "- np.array\n",
    "- pd.DataFrame\n",
    "- pd.Series\n",
    "- pd.ExcelFile\n",
    "\n",
    "\n",
    "<p style=\"font-size:130%\"> Задание 4.5</p>\n",
    "\n",
    "С помощью чего можно прочитать Excel файл по ссылке (если он находится в интернете)?\n",
    "- Только pd.read_excel()\n",
    "- pd.read_html()\n",
    "- pd.read_link() совместно с pd.read_excel()\n",
    "- Только pd.read_link()\n",
    "\n",
    "\n",
    "<p style=\"font-size:130%\"> Задание 4.6</p>\n",
    "\n",
    "Выберите верное утверждение:\n",
    "- Добавить форматирование при записи Excel-файла можно с помощью метода to_excel()\n",
    "- Добавить форматирование при записи Excel-файла можно с помощью метода to_excel() совместно с - ExcelWriter()\n",
    "- Форматирование можно добавить только в CSV-файл\n",
    "\n",
    "\n",
    "<p style=\"font-size:130%\"> Задание 4.7</p>\n",
    "\n",
    "Выберите неверные утверждения:\n",
    "- XML — один из способов представления табличных данных\n",
    "- XML имеет жесткую структуру\n",
    "- XML, как и CSV, — формат представления данных в виде дерева\n",
    "- Средства работы с XML есть в стандартной библиотеке Python\n",
    "- Максимальное количество корней в XML файле не ограничено\n",
    "\n",
    "\n",
    "<p style=\"font-size:130%\"> Задание 4.8</p>\n",
    "\n",
    "Выберите корректный ответ:\n",
    "- Любой XML файл можно превратить в pd.DataFrame\n",
    "- Любой XML файл можно превратить в JSON\n",
    "- Оба утверждения верны\n",
    "- Оба утверждения неверны\n",
    "\n",
    "\n",
    "<p style=\"font-size:130%\"> Задание 4.9</p>\n",
    "\n",
    "Выберите верный ответ:\n",
    "- Значения в XML хранятся упорядоченно, их можно представить в виде OrderedDict\n",
    "- Значения в XML хранятся неупорядоченно, их нельзя представить в виде OrderedDict\n",
    "\n",
    "\n",
    "<p style=\"font-size:130%\"> Задание 4.10</p>\n",
    "\n",
    "Выберите верные утверждения:\n",
    "- Новое дерево XML можно построить с помощью методов ElementTree.Element() и ElementTree.SubElement()\n",
    "- Новое дерево XML можно построить с помощью метода ElementTree.SubElement()\n",
    "- В дереве XML может быть несколько корней и один лист\n",
    "- Дерево XML может иметь несколько листьев, но должно иметь один корень\n",
    "- Дерево XML можно записать на диск с помощью одного из методов класса Element"
   ]
  }
 ],
 "metadata": {
  "kernelspec": {
   "display_name": "Python 3 (ipykernel)",
   "language": "python",
   "name": "python3"
  },
  "language_info": {
   "codemirror_mode": {
    "name": "ipython",
    "version": 3
   },
   "file_extension": ".py",
   "mimetype": "text/x-python",
   "name": "python",
   "nbconvert_exporter": "python",
   "pygments_lexer": "ipython3",
   "version": "3.9.12"
  }
 },
 "nbformat": 4,
 "nbformat_minor": 4
}
