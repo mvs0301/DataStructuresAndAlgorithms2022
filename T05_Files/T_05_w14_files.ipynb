{
 "cells": [
  {
   "cell_type": "markdown",
   "metadata": {},
   "source": [
    "<img src=../Img/banner.png>\n",
    "\n",
    "11 ноября 2022 года<br>\n",
    "Семинар, 15:40 - 17:10, 5-я пара<br>\n",
    "В4/3411(кк), 4-й Вешняковский проезд, 4<br>\n",
    "Группа БИ22-13\n",
    "\n",
    "Преподаватель: Смирнов Михаил Викторович, доцент Департамента Анализа данных и машинного обучения Финансового университета при Правительстве Российской Федерации\n",
    "<p style=\"font-size:150%; text-align:left\">Тема 5. Работа с файлами и обработка исключительных ситуаций</p>\n",
    "<p style=\"font-size:150%; text-align:left\">5.1. Работа с файлами JSON</p>"
   ]
  },
  {
   "cell_type": "markdown",
   "metadata": {},
   "source": [
    "Модуль _JSON_ стандартной библиотеки _Python_\n",
    "<br>https://docs.python.org/3/library/json.html\n",
    "\n",
    "Статья о множествах: https://python-scripts.com/sets\n",
    "\n",
    "Набор данных\n",
    "- сокращенная версия `..Data/recipes.json`\n",
    "- полная версия https://www.kaggle.com/c/whats-cooking/data\n",
    "\n",
    "При подготовке занятия использовались учебные материалы <a href=\"https://skillfactory.ru\">ООО \"СКИЛФЭКТОРИ\"</a>"
   ]
  },
  {
   "cell_type": "markdown",
   "metadata": {},
   "source": [
    "# 1. Файлы JSON\n",
    "\n",
    "## 1.1. Получение данных в формате JSON\n",
    "\n",
    "Рассмотрим процесс получения данных из текстового файла."
   ]
  },
  {
   "cell_type": "code",
   "execution_count": 1,
   "metadata": {},
   "outputs": [
    {
     "name": "stdout",
     "output_type": "stream",
     "text": [
      "<class '_io.TextIOWrapper'>\n",
      "<_io.TextIOWrapper name='../Data/recipes.json' mode='r' encoding='cp1251'>\n"
     ]
    }
   ],
   "source": [
    "f = open('../Data/recipes.json')\n",
    "print(type(f))\n",
    "print(f)"
   ]
  },
  {
   "cell_type": "markdown",
   "metadata": {},
   "source": [
    "Объект $f$ хранит весь файл в виде текста. Работать с массивом данных в виде большой текстовой строки неудобно. Так как по сути это файл в формате *json*, то хотелось бы сразу получить из него список словарей. Для этого используем *десериализацию* с помощью `json.load()`"
   ]
  },
  {
   "cell_type": "code",
   "execution_count": 2,
   "metadata": {},
   "outputs": [],
   "source": [
    "import json\n",
    "from pprint import pprint # Из модуля pprint функцию pprint"
   ]
  },
  {
   "cell_type": "code",
   "execution_count": 3,
   "metadata": {
    "scrolled": true
   },
   "outputs": [],
   "source": [
    "with open('../Data/recipes.json') as f:\n",
    "    recipes=json.load(f)"
   ]
  },
  {
   "cell_type": "markdown",
   "metadata": {},
   "source": [
    "Мы сразу получили список сорварей. Распечатаем первый рецепт."
   ]
  },
  {
   "cell_type": "code",
   "execution_count": 4,
   "metadata": {},
   "outputs": [
    {
     "name": "stdout",
     "output_type": "stream",
     "text": [
      "{'cuisine': 'greek',\n",
      " 'id': 10259,\n",
      " 'ingredients': ['romaine lettuce',\n",
      "                 'black olives',\n",
      "                 'grape tomatoes',\n",
      "                 'garlic',\n",
      "                 'pepper',\n",
      "                 'purple onion',\n",
      "                 'seasoning',\n",
      "                 'garbanzo beans',\n",
      "                 'feta cheese crumbles']}\n"
     ]
    }
   ],
   "source": [
    "pprint(recipes[0])"
   ]
  },
  {
   "cell_type": "code",
   "execution_count": 5,
   "metadata": {},
   "outputs": [
    {
     "data": {
      "text/plain": [
       "500"
      ]
     },
     "execution_count": 5,
     "metadata": {},
     "output_type": "execute_result"
    }
   ],
   "source": [
    "len(recipes)"
   ]
  },
  {
   "cell_type": "markdown",
   "metadata": {},
   "source": [
    "После того как мы провели десериализацию данных из JSON-файла, мы можем работать с полученным объектом, как с обычным словарём.\n",
    "\n",
    "Узнаем, к какой кухне относится блюдо с id=13121."
   ]
  },
  {
   "cell_type": "code",
   "execution_count": 6,
   "metadata": {
    "scrolled": true
   },
   "outputs": [
    {
     "name": "stdout",
     "output_type": "stream",
     "text": [
      "{'cuisine': 'thai',\n",
      " 'id': 13121,\n",
      " 'ingredients': ['pork loin',\n",
      "                 'roasted peanuts',\n",
      "                 'chopped cilantro fresh',\n",
      "                 'hoisin sauce',\n",
      "                 'creamy peanut butter',\n",
      "                 'chopped fresh mint',\n",
      "                 'thai basil',\n",
      "                 'rice',\n",
      "                 'medium shrimp',\n",
      "                 'water',\n",
      "                 'rice noodles',\n",
      "                 'beansprouts']}\n"
     ]
    }
   ],
   "source": [
    "for r in recipes:\n",
    "    if r['id']==13121:\n",
    "        break\n",
    "pprint(r)"
   ]
  },
  {
   "cell_type": "markdown",
   "metadata": {},
   "source": [
    "### Задание 1.1.1\n",
    "Какую кухню (ключ 'cuisine') представляет последнее блюдо в списке _recipes?_"
   ]
  },
  {
   "cell_type": "code",
   "execution_count": null,
   "metadata": {},
   "outputs": [],
   "source": [
    "# Ваш код здесь\n",
    "\n"
   ]
  },
  {
   "cell_type": "markdown",
   "metadata": {},
   "source": [
    "### Задание 1.1.2\n",
    "Сколько ингредиентов входит в состав этого блюда?"
   ]
  },
  {
   "cell_type": "code",
   "execution_count": null,
   "metadata": {},
   "outputs": [],
   "source": [
    "# Ваш код здесь\n",
    "\n"
   ]
  },
  {
   "cell_type": "markdown",
   "metadata": {},
   "source": [
    "### Задание 1.1.3\n",
    "Какие из перечисленных ингредиентов присутствуют в блюде с id = 17636?\n",
    "```\n",
    "['tomato sauce','spinach','italian seasoning',\n",
    "'broccoli','chopped onion','skinless chicken thighs','chopped green bell pepper']\n",
    "```"
   ]
  },
  {
   "cell_type": "code",
   "execution_count": null,
   "metadata": {},
   "outputs": [],
   "source": [
    "# Ваш код здесь\n",
    "\n"
   ]
  },
  {
   "cell_type": "markdown",
   "metadata": {},
   "source": [
    "### Задание 1.1.4\n",
    "Сколько ингредиентов входит в состав рецепта для приготовления блюда с id = 42013?"
   ]
  },
  {
   "cell_type": "code",
   "execution_count": null,
   "metadata": {},
   "outputs": [],
   "source": [
    "# Ваш код здесь\n",
    "\n"
   ]
  },
  {
   "cell_type": "markdown",
   "metadata": {},
   "source": [
    "### Задание 1.1.5\n",
    "Какие из перечисленных ингредиентов\n",
    "```\n",
    "'olive oil', 'eggs', 'dry vermouth', 'black olives', 'black beans', 'chicken livers'\n",
    "```\n",
    "отсутствуют в блюде с id = 23629?"
   ]
  },
  {
   "cell_type": "code",
   "execution_count": null,
   "metadata": {},
   "outputs": [],
   "source": [
    "# Ваш код здесь\n",
    "\n"
   ]
  },
  {
   "cell_type": "markdown",
   "metadata": {},
   "source": [
    "## 1.2. Группировка данных\n",
    "\n",
    "### Кейс 1: Какое количество кухонь представлено в наборе данных?"
   ]
  },
  {
   "cell_type": "code",
   "execution_count": 7,
   "metadata": {},
   "outputs": [
    {
     "name": "stdout",
     "output_type": "stream",
     "text": [
      "20\n"
     ]
    }
   ],
   "source": [
    "cuisines=set()\n",
    "for r in recipes:\n",
    "    cuisines.add(r['cuisine'])\n",
    "print(len(cuisines))"
   ]
  },
  {
   "cell_type": "markdown",
   "metadata": {},
   "source": [
    "### Задание 1.2.1\n",
    "Сколько ингредиентов включено в состав всех блюд, описанных в наборе данных?\n",
    "\n",
    "Подсказка: для добавления в коллекцию нового ингредиента организуйте перебор ингредиентов каждого блюда в отдельном вложенном цикле."
   ]
  },
  {
   "cell_type": "code",
   "execution_count": null,
   "metadata": {},
   "outputs": [],
   "source": [
    "# Ваш код здесь\n",
    "\n"
   ]
  },
  {
   "cell_type": "markdown",
   "metadata": {},
   "source": [
    "### Задание 1.2.2\n",
    "Сколько ингредиентов встречается в рецептах блюд итальянской кухни _('cuisine' = italian)?_"
   ]
  },
  {
   "cell_type": "code",
   "execution_count": null,
   "metadata": {},
   "outputs": [],
   "source": [
    "# Ваш код здесь\n",
    "\n"
   ]
  },
  {
   "cell_type": "markdown",
   "metadata": {},
   "source": [
    "### Задание 1.2.3\n",
    "Какие ингредиенты из перечисленных\n",
    "```\n",
    "'bacon,bread slices,buttermilk,red beets,mozzarella cheese,carrots'\n",
    "```\n",
    "не встречаются в рецептах блюд русской кухни _('cuisine' = 'russian')?_"
   ]
  },
  {
   "cell_type": "code",
   "execution_count": null,
   "metadata": {
    "scrolled": true
   },
   "outputs": [],
   "source": [
    "# Ваш код здесь\n",
    "\n"
   ]
  },
  {
   "cell_type": "markdown",
   "metadata": {},
   "source": [
    "### Кейс №2: Оцениваем популярность ингредиентов\n",
    "Оценим, какие продукты используются в приготовлении блюд чаще, а какие - реже. \n",
    "\n",
    "Создадим словарь, в котором ключами будут названия ингредиентов, а значениями — количество рецептов, в которых встречается каждый ингредиент.\n",
    "\n",
    "Для создания словаря нам понадобится коллекция, содержащая перечень всех ингредиентов из описанных в наборе данных рецептов. Такой список вы уже составили. Воспользуйтесь вашим кодом для решения этой задачи ещё раз, но при этом назовите список (или множество, это не будет иметь значения в коде, который мы собираемся создавать) именем *ingredients*.\n",
    "\n",
    "План решения задачи:\n",
    "\n",
    "1. Для хранения информации о частоте встречаемости ингредиентов мы создадим пустой словарь *food*.\n",
    "2. Заполним словарь *food* ключами, соответствующими названиям ингредиентов. В качестве значений по каждому ключу установим 0.\n",
    "3. Организуем вложенный цикл, в котором будем перебирать рецепты (внешний цикл) и ингредиенты, использующиеся в каждом рецепте (внутренний цикл). При каждом появлении очередного ингредиента мы будем увеличивать значение соответствующего элемента словаря *food* на единицу."
   ]
  },
  {
   "cell_type": "code",
   "execution_count": 8,
   "metadata": {},
   "outputs": [
    {
     "name": "stdout",
     "output_type": "stream",
     "text": [
      "1318 1318\n",
      "sugar:81, eggs:43, salt:217\n"
     ]
    }
   ],
   "source": [
    "ingredients=set() # Множество всех ингредиентов\n",
    "for r in recipes:\n",
    "    for ingr in r[\"ingredients\"]:\n",
    "        ingredients.add(ingr)\n",
    "\n",
    "food=dict()\n",
    "for ingr in ingredients:\n",
    "    food[ingr]=0\n",
    "for r in recipes:\n",
    "    for i in r['ingredients']:\n",
    "        food[i] += 1\n",
    "\n",
    "# Проверка\n",
    "print(len(ingredients),len(food))\n",
    "print(f'sugar:{food[\"sugar\"]}, eggs:{food[\"eggs\"]}, salt:{food[\"salt\"]}')"
   ]
  },
  {
   "cell_type": "markdown",
   "metadata": {},
   "source": [
    "### Задание 1.2.4\n",
    "Какие ингредиенты входят в состав более чем 20% блюд, представленных в наборе данных?"
   ]
  },
  {
   "cell_type": "code",
   "execution_count": null,
   "metadata": {},
   "outputs": [],
   "source": [
    "# Ваш код здесь\n",
    "\n"
   ]
  },
  {
   "cell_type": "markdown",
   "metadata": {},
   "source": [
    "### Задание 1.2.5\n",
    "Какой ингредиент входит в состав самого большого количества блюд?"
   ]
  },
  {
   "cell_type": "code",
   "execution_count": null,
   "metadata": {},
   "outputs": [],
   "source": [
    "# Ваш код здесь\n",
    "\n"
   ]
  },
  {
   "cell_type": "markdown",
   "metadata": {},
   "source": [
    "### Задание 1.2.6\n",
    "Сколько ингредиентов входит в состав только одного блюда?"
   ]
  },
  {
   "cell_type": "code",
   "execution_count": null,
   "metadata": {},
   "outputs": [],
   "source": [
    "# Ваш код здесь\n",
    "\n"
   ]
  },
  {
   "cell_type": "markdown",
   "metadata": {},
   "source": [
    "## 1.3. Создание JSON-файла\n",
    "\n",
    "В завершающей части этого блока мы решим обратную задачу и создадим небольшой JSON-файл, состоящий только из блюд ямайской кухни."
   ]
  },
  {
   "cell_type": "code",
   "execution_count": 9,
   "metadata": {},
   "outputs": [
    {
     "name": "stdout",
     "output_type": "stream",
     "text": [
      "Рецептов ямайской кухни 6\n"
     ]
    }
   ],
   "source": [
    "j_recipes=[]\n",
    "for r in recipes:\n",
    "    if r['cuisine']=='jamaican':\n",
    "        j_recipes.append(r)\n",
    "\n",
    "print(f'Рецептов ямайской кухни {len(j_recipes)}')\n",
    "\n",
    "with open(\"j_recipes.json\", \"w\") as f:\n",
    "    json.dump(j_recipes, f)"
   ]
  },
  {
   "cell_type": "markdown",
   "metadata": {
    "scrolled": true
   },
   "source": [
    "<h2>Итоги</h2>\n",
    "\n",
    "<img src=\"../Img/summary.jpg\" style=\"width:50%\">\n",
    "\n",
    "На этом занятии на примере набора данных с рецептами блюд мы научилились обрабатывать данные в формате *json*, читать и сохранять файлы в этом формате."
   ]
  }
 ],
 "metadata": {
  "kernelspec": {
   "display_name": "Python 3 (ipykernel)",
   "language": "python",
   "name": "python3"
  },
  "language_info": {
   "codemirror_mode": {
    "name": "ipython",
    "version": 3
   },
   "file_extension": ".py",
   "mimetype": "text/x-python",
   "name": "python",
   "nbconvert_exporter": "python",
   "pygments_lexer": "ipython3",
   "version": "3.9.12"
  }
 },
 "nbformat": 4,
 "nbformat_minor": 4
}
