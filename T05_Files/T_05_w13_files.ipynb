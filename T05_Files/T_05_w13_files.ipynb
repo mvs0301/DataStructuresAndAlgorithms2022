{
 "cells": [
  {
   "cell_type": "markdown",
   "metadata": {},
   "source": [
    "<img src=../Img/banner.png>\n",
    "\n",
    "11 ноября 2022 года<br>\n",
    "Семинар, 15:40 - 17:10, 5-я пара<br>\n",
    "В4/3411(кк), 4-й Вешняковский проезд, 4<br>\n",
    "Группа БИ22-13\n",
    "\n",
    "Преподаватель: Смирнов Михаил Викторович, доцент Департамента Анализа данных и машинного обучения Финансового университета при Правительстве Российской Федерации\n",
    "<p style=\"font-size:150%; text-align:left\">Тема 5. Работа с файлами и обработка исключительных ситуаций</p>\n",
    "<p style=\"font-size:150%; text-align:left\">5.1. Работа с файлами</p>"
   ]
  },
  {
   "cell_type": "markdown",
   "metadata": {},
   "source": [
    "Модуль _JSON_ стандартной библиотеки _Python_\n",
    "<br>https://docs.python.org/3/library/json.html\n",
    "\n",
    "Статья о множествах: https://python-scripts.com/sets\n",
    "\n",
    "Набор данных\n",
    "- сокращенная версия `..Data/recipes.json`\n",
    "- полная версия https://www.kaggle.com/c/whats-cooking/data\n",
    "\n",
    "При подготовке занятия использовались учебные материалы <a href=\"https://skillfactory.ru\">ООО \"СКИЛФЭКТОРИ\"</a>"
   ]
  },
  {
   "cell_type": "markdown",
   "metadata": {},
   "source": [
    "# 1. Файлы JSON\n",
    "\n",
    "## 1.1. Получение данных в формате JSON\n",
    "\n",
    "Рассмотрим процесс получения данных из текстового файла."
   ]
  },
  {
   "cell_type": "code",
   "execution_count": 23,
   "metadata": {},
   "outputs": [
    {
     "name": "stdout",
     "output_type": "stream",
     "text": [
      "<class '_io.TextIOWrapper'>\n",
      "<_io.TextIOWrapper name='../Data/recipes.json' mode='r' encoding='cp1251'>\n"
     ]
    }
   ],
   "source": [
    "f = open('../Data/recipes.json')\n",
    "print(type(f))\n",
    "print(f)"
   ]
  },
  {
   "cell_type": "markdown",
   "metadata": {},
   "source": [
    "Объект *f* хранит весь текст. Работать с ним можно с помощью различных методов, например readines()"
   ]
  },
  {
   "cell_type": "code",
   "execution_count": 33,
   "metadata": {
    "scrolled": true
   },
   "outputs": [
    {
     "name": "stdout",
     "output_type": "stream",
     "text": [
      "<class 'list'> 1\n"
     ]
    }
   ],
   "source": [
    "f = open('../Data/recipes.json')\n",
    "this_file = f.readlines()\n",
    "print(type(this_file), len(this_file))"
   ]
  },
  {
   "cell_type": "markdown",
   "metadata": {},
   "source": [
    "Это список из одного элемента. Какого типа элемент?"
   ]
  },
  {
   "cell_type": "code",
   "execution_count": 42,
   "metadata": {},
   "outputs": [
    {
     "name": "stdout",
     "output_type": "stream",
     "text": [
      "<class 'list'> 1 <class 'str'>\n"
     ]
    }
   ],
   "source": [
    "f = open('../Data/recipes.json')\n",
    "this_file = f.readlines()\n",
    "print(type(this_file), len(this_file), type(this_file[0]))"
   ]
  },
  {
   "cell_type": "markdown",
   "metadata": {},
   "source": [
    "Это строка. Распечатаем несколько сотен символов строки."
   ]
  },
  {
   "cell_type": "code",
   "execution_count": 41,
   "metadata": {},
   "outputs": [
    {
     "name": "stdout",
     "output_type": "stream",
     "text": [
      "[{\"id\": 10259, \"cuisine\": \"greek\", \"ingredients\": [\"romaine lettuce\", \"black olives\", \"grape tomatoes\", \"garlic\", \"pepper\", \"purple onion\", \"seasoning\", \"garbanzo beans\", \"feta cheese crumbles\"]}, {\"id\": 25693, \"cuisine\": \"southern_us\", \"ingredients\": [\"plain flour\", \"ground pepper\", \"salt\", \"tomato\n"
     ]
    }
   ],
   "source": [
    "f = open('../Data/recipes.json')\n",
    "this_file = f.readlines()\n",
    "print(this_file[0][:300])"
   ]
  },
  {
   "cell_type": "markdown",
   "metadata": {},
   "source": [
    "Мы видем, что результат выглядит как список словарей, однако, это строка, поэтому работать не очень удобно. Хотелось бы получить структуру \"словарь\".\n",
    "\n",
    "Десериализация с помощью *json.load()*"
   ]
  },
  {
   "cell_type": "code",
   "execution_count": 2,
   "metadata": {},
   "outputs": [],
   "source": [
    "import json\n",
    "from pprint import pprint # Из модуля pprint функцию pprint"
   ]
  },
  {
   "cell_type": "code",
   "execution_count": 3,
   "metadata": {
    "scrolled": true
   },
   "outputs": [],
   "source": [
    "with open('../Data/recipes.json') as f:\n",
    "    recipes=json.load(f)"
   ]
  },
  {
   "cell_type": "markdown",
   "metadata": {},
   "source": [
    "Распечатаем первый рецепт"
   ]
  },
  {
   "cell_type": "code",
   "execution_count": 3,
   "metadata": {},
   "outputs": [
    {
     "name": "stdout",
     "output_type": "stream",
     "text": [
      "{'cuisine': 'greek',\n",
      " 'id': 10259,\n",
      " 'ingredients': ['romaine lettuce',\n",
      "                 'black olives',\n",
      "                 'grape tomatoes',\n",
      "                 'garlic',\n",
      "                 'pepper',\n",
      "                 'purple onion',\n",
      "                 'seasoning',\n",
      "                 'garbanzo beans',\n",
      "                 'feta cheese crumbles']}\n"
     ]
    }
   ],
   "source": [
    "pprint(recipes[0])"
   ]
  },
  {
   "cell_type": "code",
   "execution_count": 4,
   "metadata": {},
   "outputs": [
    {
     "data": {
      "text/plain": [
       "500"
      ]
     },
     "execution_count": 4,
     "metadata": {},
     "output_type": "execute_result"
    }
   ],
   "source": [
    "len(recipes)"
   ]
  },
  {
   "cell_type": "markdown",
   "metadata": {},
   "source": [
    "После того как мы провели десериализацию данных из JSON-файла, мы можем работать с полученным объектом, как с обычным словарём.\n",
    "\n",
    "К какой кухне относится блюдо с id=13121?"
   ]
  },
  {
   "cell_type": "code",
   "execution_count": 5,
   "metadata": {
    "scrolled": true
   },
   "outputs": [
    {
     "name": "stdout",
     "output_type": "stream",
     "text": [
      "{'cuisine': 'thai',\n",
      " 'id': 13121,\n",
      " 'ingredients': ['pork loin',\n",
      "                 'roasted peanuts',\n",
      "                 'chopped cilantro fresh',\n",
      "                 'hoisin sauce',\n",
      "                 'creamy peanut butter',\n",
      "                 'chopped fresh mint',\n",
      "                 'thai basil',\n",
      "                 'rice',\n",
      "                 'medium shrimp',\n",
      "                 'water',\n",
      "                 'rice noodles',\n",
      "                 'beansprouts']}\n"
     ]
    }
   ],
   "source": [
    "for r in recipes:\n",
    "    if r['id']==13121:\n",
    "        break\n",
    "pprint(r)"
   ]
  },
  {
   "cell_type": "markdown",
   "metadata": {},
   "source": [
    "### Задание 1.1.1\n",
    "Какую кухню (ключ 'cuisine') представляет последнее блюдо в списке _recipes?_"
   ]
  },
  {
   "cell_type": "code",
   "execution_count": 5,
   "metadata": {},
   "outputs": [],
   "source": [
    "# Ваш код здесь\n",
    "\n"
   ]
  },
  {
   "cell_type": "markdown",
   "metadata": {},
   "source": [
    "### Задание 1.1.2\n",
    "Сколько ингредиентов входит в состав этого блюда?"
   ]
  },
  {
   "cell_type": "code",
   "execution_count": 6,
   "metadata": {},
   "outputs": [],
   "source": [
    "# Ваш код здесь\n",
    "\n"
   ]
  },
  {
   "cell_type": "markdown",
   "metadata": {},
   "source": [
    "### Задание 1.1.3\n",
    "Какие из перечисленных ингредиентов присутствуют в блюде с id = 17636?\n",
    "```\n",
    "['tomato sauce','spinach','italian seasoning',\n",
    "'broccoli','chopped onion','skinless chicken thighs','chopped green bell pepper']\n",
    "```"
   ]
  },
  {
   "cell_type": "code",
   "execution_count": 7,
   "metadata": {},
   "outputs": [],
   "source": [
    "# Ваш код здесь\n",
    "\n"
   ]
  },
  {
   "cell_type": "markdown",
   "metadata": {},
   "source": [
    "### Задание 1.1.4\n",
    "Сколько ингредиентов входит в состав рецепта для приготовления блюда с id = 42013?"
   ]
  },
  {
   "cell_type": "code",
   "execution_count": 8,
   "metadata": {},
   "outputs": [],
   "source": [
    "# Ваш код здесь\n",
    "\n"
   ]
  },
  {
   "cell_type": "markdown",
   "metadata": {},
   "source": [
    "### Задание 1.1.5\n",
    "Какие из перечисленных ингредиентов\n",
    "```\n",
    "'olive oil', 'eggs', 'dry vermouth', 'black olives', 'black beans', 'chicken livers'\n",
    "```\n",
    "отсутствуют в блюде с id = 23629?"
   ]
  },
  {
   "cell_type": "code",
   "execution_count": 9,
   "metadata": {},
   "outputs": [],
   "source": [
    "# Ваш код здесь\n",
    "\n"
   ]
  },
  {
   "cell_type": "markdown",
   "metadata": {},
   "source": [
    "## 1.2. Группировка данных\n",
    "\n",
    "### Кейс 1: Какое количество кухонь представлено в наборе данных?"
   ]
  },
  {
   "cell_type": "code",
   "execution_count": 11,
   "metadata": {},
   "outputs": [
    {
     "name": "stdout",
     "output_type": "stream",
     "text": [
      "20\n"
     ]
    }
   ],
   "source": [
    "cuisines=[]\n",
    "for recipe in recipes:\n",
    "    if not recipe['cuisine'] in cuisines:\n",
    "        cuisines.append(recipe['cuisine'])\n",
    "print(len(cuisines))"
   ]
  },
  {
   "cell_type": "markdown",
   "metadata": {},
   "source": [
    "### Задание 1.2.1\n",
    "Сколько ингредиентов включено в состав всех блюд, описанных в наборе данных?\n",
    "\n",
    "Подсказка: для добавления в список или множество нового ингредиента организуйте перебор ингредиентов каждого блюда в отдельном вложенном цикле."
   ]
  },
  {
   "cell_type": "code",
   "execution_count": 10,
   "metadata": {},
   "outputs": [],
   "source": [
    "# Ваш код здесь\n",
    "\n"
   ]
  },
  {
   "cell_type": "markdown",
   "metadata": {},
   "source": [
    "### Задание 1.2.2\n",
    "Сколько ингредиентов встречается в рецептах блюд итальянской кухни _('cuisine' = italian)?_"
   ]
  },
  {
   "cell_type": "code",
   "execution_count": 11,
   "metadata": {},
   "outputs": [],
   "source": [
    "# Ваш код здесь\n",
    "\n"
   ]
  },
  {
   "cell_type": "markdown",
   "metadata": {},
   "source": [
    "### Задание 1.2.3\n",
    "Какие ингредиенты из перечисленных\n",
    "```\n",
    "'bacon,bread slices,buttermilk,red beets,mozzarella cheese,carrots'\n",
    "```\n",
    "не встречаются в рецептах блюд русской кухни _('cuisine' = 'russian')?_"
   ]
  },
  {
   "cell_type": "code",
   "execution_count": 12,
   "metadata": {
    "scrolled": true
   },
   "outputs": [],
   "source": [
    "# Ваш код здесь\n",
    "\n"
   ]
  },
  {
   "cell_type": "markdown",
   "metadata": {},
   "source": [
    "### Кейс №2: Оцениваем популярность ингредиентов\n",
    "Нам необходимо оценить, какие продукты используются в приготовлении блюд чаще, а какие - реже. \n",
    "\n",
    "Способ 1. Преобразовать JSON-структуру в датафрейм и найти количество ненулевых значений для каждого ингредиента. Этот способ рассмотрим позже.\n",
    "\n",
    "Способ 2. Создать словарь, в котором ключами будут названия ингредиентов, аnзначениями — количество рецептов, в которых встречается каждый ингредиент.\n",
    "\n",
    "Для создания словаря нам понадобится список или множество, содержащие перечень всех ингредиентов из описанных в наборе данных рецептов. Такой список вы уже составили. Воспользуйтесь вашим кодом для решения этой задачи ещё раз, но при этом назовите список (или множество, это не будет иметь значения в коде, который мы собираемся создавать) именем *ingredients*.\n",
    "\n",
    "План решения задачи:\n",
    "\n",
    "1. Для хранения информации о частоте встречаемости ингредиентов мы создадим пустой словарь *food*.\n",
    "2. Заполним словарь *food* ключами, соответствующими названиям ингредиентов. В качестве значений по каждому ключу установим 0.\n",
    "3. Организуем вложенный цикл, в котором будем перебирать рецепты (внешний цикл) и ингредиенты, использующиеся в каждом рецепте (внутренний цикл). При каждом появлении очередного ингредиента мы будем увеличивать значение соответствующего элемента словаря *food* на единицу."
   ]
  },
  {
   "cell_type": "code",
   "execution_count": 15,
   "metadata": {},
   "outputs": [],
   "source": [
    "ingredients=set()\n",
    "\n",
    "for r in recipes:\n",
    "    for i in r[\"ingredients\"]:\n",
    "        ingredients.add(i)\n",
    "    \n",
    "food={}\n",
    "\n",
    "for i in ingredients:\n",
    "    food[i]=0\n",
    "\n",
    "for r in recipes:\n",
    "    for i in r['ingredients']:\n",
    "        food[i] += 1"
   ]
  },
  {
   "cell_type": "code",
   "execution_count": 16,
   "metadata": {},
   "outputs": [
    {
     "data": {
      "text/plain": [
       "1318"
      ]
     },
     "execution_count": 16,
     "metadata": {},
     "output_type": "execute_result"
    }
   ],
   "source": [
    "len(food)"
   ]
  },
  {
   "cell_type": "code",
   "execution_count": 17,
   "metadata": {},
   "outputs": [
    {
     "data": {
      "text/plain": [
       "(81, 43, 217)"
      ]
     },
     "execution_count": 17,
     "metadata": {},
     "output_type": "execute_result"
    }
   ],
   "source": [
    "food['sugar'], food['eggs'], food['salt']"
   ]
  },
  {
   "cell_type": "markdown",
   "metadata": {},
   "source": [
    "### Задание 1.2.4\n",
    "Какие ингредиенты входят в состав более чем 20% блюд, представленных в наборе данных?"
   ]
  },
  {
   "cell_type": "code",
   "execution_count": 17,
   "metadata": {},
   "outputs": [],
   "source": [
    "# Ваш код здесь\n",
    "\n"
   ]
  },
  {
   "cell_type": "markdown",
   "metadata": {},
   "source": [
    "### Задание 1.2.5\n",
    "Какой ингредиент входит в состав самого большого количества блюд?"
   ]
  },
  {
   "cell_type": "code",
   "execution_count": 16,
   "metadata": {},
   "outputs": [],
   "source": [
    "# Ваш код здесь\n",
    "\n"
   ]
  },
  {
   "cell_type": "markdown",
   "metadata": {},
   "source": [
    "### Задание 1.2.6\n",
    "Сколько ингредиентов входит в состав только одного блюда?"
   ]
  },
  {
   "cell_type": "code",
   "execution_count": 15,
   "metadata": {},
   "outputs": [],
   "source": [
    "# Ваш код здесь\n",
    "\n"
   ]
  },
  {
   "cell_type": "markdown",
   "metadata": {},
   "source": [
    "## 1.3. Создание датафрейма на основе JSON-файла\n",
    "\n",
    "Для решения многих задач нужна возможность работать с данными в форме таблицы."
   ]
  },
  {
   "cell_type": "code",
   "execution_count": 21,
   "metadata": {},
   "outputs": [],
   "source": [
    "import pandas as pd"
   ]
  },
  {
   "cell_type": "code",
   "execution_count": 22,
   "metadata": {
    "scrolled": false
   },
   "outputs": [
    {
     "data": {
      "text/html": [
       "<div>\n",
       "<style scoped>\n",
       "    .dataframe tbody tr th:only-of-type {\n",
       "        vertical-align: middle;\n",
       "    }\n",
       "\n",
       "    .dataframe tbody tr th {\n",
       "        vertical-align: top;\n",
       "    }\n",
       "\n",
       "    .dataframe thead th {\n",
       "        text-align: right;\n",
       "    }\n",
       "</style>\n",
       "<table border=\"1\" class=\"dataframe\">\n",
       "  <thead>\n",
       "    <tr style=\"text-align: right;\">\n",
       "      <th></th>\n",
       "      <th>id</th>\n",
       "      <th>cuisine</th>\n",
       "      <th>ingredients</th>\n",
       "    </tr>\n",
       "  </thead>\n",
       "  <tbody>\n",
       "    <tr>\n",
       "      <th>0</th>\n",
       "      <td>10259</td>\n",
       "      <td>greek</td>\n",
       "      <td>[romaine lettuce, black olives, grape tomatoes...</td>\n",
       "    </tr>\n",
       "    <tr>\n",
       "      <th>1</th>\n",
       "      <td>25693</td>\n",
       "      <td>southern_us</td>\n",
       "      <td>[plain flour, ground pepper, salt, tomatoes, g...</td>\n",
       "    </tr>\n",
       "    <tr>\n",
       "      <th>2</th>\n",
       "      <td>20130</td>\n",
       "      <td>filipino</td>\n",
       "      <td>[eggs, pepper, salt, mayonaise, cooking oil, g...</td>\n",
       "    </tr>\n",
       "    <tr>\n",
       "      <th>3</th>\n",
       "      <td>22213</td>\n",
       "      <td>indian</td>\n",
       "      <td>[water, vegetable oil, wheat, salt]</td>\n",
       "    </tr>\n",
       "    <tr>\n",
       "      <th>4</th>\n",
       "      <td>13162</td>\n",
       "      <td>indian</td>\n",
       "      <td>[black pepper, shallots, cornflour, cayenne pe...</td>\n",
       "    </tr>\n",
       "    <tr>\n",
       "      <th>...</th>\n",
       "      <td>...</td>\n",
       "      <td>...</td>\n",
       "      <td>...</td>\n",
       "    </tr>\n",
       "    <tr>\n",
       "      <th>495</th>\n",
       "      <td>1121</td>\n",
       "      <td>chinese</td>\n",
       "      <td>[ground pepper, garlic, safflower oil, green o...</td>\n",
       "    </tr>\n",
       "    <tr>\n",
       "      <th>496</th>\n",
       "      <td>18376</td>\n",
       "      <td>italian</td>\n",
       "      <td>[penne, garlic, eggplant, lemon juice, olive o...</td>\n",
       "    </tr>\n",
       "    <tr>\n",
       "      <th>497</th>\n",
       "      <td>17815</td>\n",
       "      <td>italian</td>\n",
       "      <td>[cold water, dry white wine, fish fillets, cho...</td>\n",
       "    </tr>\n",
       "    <tr>\n",
       "      <th>498</th>\n",
       "      <td>32878</td>\n",
       "      <td>southern_us</td>\n",
       "      <td>[water, cajun seasoning, yellow onion, shrimp,...</td>\n",
       "    </tr>\n",
       "    <tr>\n",
       "      <th>499</th>\n",
       "      <td>24410</td>\n",
       "      <td>british</td>\n",
       "      <td>[mint, large eggs, heavy cream, berries, groun...</td>\n",
       "    </tr>\n",
       "  </tbody>\n",
       "</table>\n",
       "<p>500 rows × 3 columns</p>\n",
       "</div>"
      ],
      "text/plain": [
       "        id      cuisine                                        ingredients\n",
       "0    10259        greek  [romaine lettuce, black olives, grape tomatoes...\n",
       "1    25693  southern_us  [plain flour, ground pepper, salt, tomatoes, g...\n",
       "2    20130     filipino  [eggs, pepper, salt, mayonaise, cooking oil, g...\n",
       "3    22213       indian                [water, vegetable oil, wheat, salt]\n",
       "4    13162       indian  [black pepper, shallots, cornflour, cayenne pe...\n",
       "..     ...          ...                                                ...\n",
       "495   1121      chinese  [ground pepper, garlic, safflower oil, green o...\n",
       "496  18376      italian  [penne, garlic, eggplant, lemon juice, olive o...\n",
       "497  17815      italian  [cold water, dry white wine, fish fillets, cho...\n",
       "498  32878  southern_us  [water, cajun seasoning, yellow onion, shrimp,...\n",
       "499  24410      british  [mint, large eggs, heavy cream, berries, groun...\n",
       "\n",
       "[500 rows x 3 columns]"
      ]
     },
     "execution_count": 22,
     "metadata": {},
     "output_type": "execute_result"
    }
   ],
   "source": [
    "df=pd.DataFrame(recipes)\n",
    "df"
   ]
  },
  {
   "cell_type": "markdown",
   "metadata": {},
   "source": [
    "### Задание 1.3.1\n",
    "\n",
    "Какая часть набора данных была использована в качестве заголовков столбцов при создании датафрейма с помощью команды df = pd.DataFrame(recipes)?\n",
    "\n",
    "- индексы элементов списка\n",
    "- ключи словарей \n",
    "- значения словарей\n",
    "- самые часто встречающиеся значения словарей "
   ]
  },
  {
   "cell_type": "markdown",
   "metadata": {},
   "source": [
    "### Задание 1.3.2\n",
    "\n",
    "Какая часть набора данных была использована в качестве индексов строк при создании датафрейма с помощью команды df = pd.DataFrame(recipes)?\n",
    "- id блюд\n",
    "- ключи словарей\n",
    "- значения словарей\n",
    "- индексы были сгенерированы автоматически\n"
   ]
  },
  {
   "cell_type": "markdown",
   "metadata": {},
   "source": [
    "### Готовим данные для анализа\n",
    "\n",
    "Множество всех  ингредиентов"
   ]
  },
  {
   "cell_type": "code",
   "execution_count": 23,
   "metadata": {},
   "outputs": [],
   "source": [
    "def find_ingr(lst):\n",
    "    if ingr in lst:\n",
    "        return 1\n",
    "    return 0"
   ]
  },
  {
   "cell_type": "code",
   "execution_count": 24,
   "metadata": {},
   "outputs": [],
   "source": [
    "for ingr in ingredients:\n",
    "    df[ingr]=df['ingredients'].apply(find_ingr)"
   ]
  },
  {
   "cell_type": "markdown",
   "metadata": {},
   "source": [
    "В завершение изменим значение столбца *ingredients*, заполнив его данными о количестве ингредиентов в каждом рецепте"
   ]
  },
  {
   "cell_type": "code",
   "execution_count": 25,
   "metadata": {},
   "outputs": [],
   "source": [
    "df['ingredients']=df['ingredients'].apply(lambda x: len(x))"
   ]
  },
  {
   "cell_type": "code",
   "execution_count": 26,
   "metadata": {
    "scrolled": true
   },
   "outputs": [
    {
     "data": {
      "text/html": [
       "<div>\n",
       "<style scoped>\n",
       "    .dataframe tbody tr th:only-of-type {\n",
       "        vertical-align: middle;\n",
       "    }\n",
       "\n",
       "    .dataframe tbody tr th {\n",
       "        vertical-align: top;\n",
       "    }\n",
       "\n",
       "    .dataframe thead th {\n",
       "        text-align: right;\n",
       "    }\n",
       "</style>\n",
       "<table border=\"1\" class=\"dataframe\">\n",
       "  <thead>\n",
       "    <tr style=\"text-align: right;\">\n",
       "      <th></th>\n",
       "      <th>id</th>\n",
       "      <th>cuisine</th>\n",
       "      <th>ingredients</th>\n",
       "      <th>unsalted butter</th>\n",
       "      <th>pitted olives</th>\n",
       "      <th>orange blossom honey</th>\n",
       "      <th>oil</th>\n",
       "      <th>boneless pork loin</th>\n",
       "      <th>water</th>\n",
       "      <th>toasted sesame oil</th>\n",
       "      <th>...</th>\n",
       "      <th>hot sauce</th>\n",
       "      <th>chickpea flour</th>\n",
       "      <th>smoked streaky bacon</th>\n",
       "      <th>fat free milk</th>\n",
       "      <th>chinese rice wine</th>\n",
       "      <th>dry sherry</th>\n",
       "      <th>half &amp; half</th>\n",
       "      <th>ice cubes</th>\n",
       "      <th>boneless skinless chicken breasts</th>\n",
       "      <th>shell-on shrimp</th>\n",
       "    </tr>\n",
       "  </thead>\n",
       "  <tbody>\n",
       "    <tr>\n",
       "      <th>0</th>\n",
       "      <td>10259</td>\n",
       "      <td>greek</td>\n",
       "      <td>9</td>\n",
       "      <td>0</td>\n",
       "      <td>0</td>\n",
       "      <td>0</td>\n",
       "      <td>0</td>\n",
       "      <td>0</td>\n",
       "      <td>0</td>\n",
       "      <td>0</td>\n",
       "      <td>...</td>\n",
       "      <td>0</td>\n",
       "      <td>0</td>\n",
       "      <td>0</td>\n",
       "      <td>0</td>\n",
       "      <td>0</td>\n",
       "      <td>0</td>\n",
       "      <td>0</td>\n",
       "      <td>0</td>\n",
       "      <td>0</td>\n",
       "      <td>0</td>\n",
       "    </tr>\n",
       "    <tr>\n",
       "      <th>1</th>\n",
       "      <td>25693</td>\n",
       "      <td>southern_us</td>\n",
       "      <td>11</td>\n",
       "      <td>0</td>\n",
       "      <td>0</td>\n",
       "      <td>0</td>\n",
       "      <td>0</td>\n",
       "      <td>0</td>\n",
       "      <td>0</td>\n",
       "      <td>0</td>\n",
       "      <td>...</td>\n",
       "      <td>0</td>\n",
       "      <td>0</td>\n",
       "      <td>0</td>\n",
       "      <td>0</td>\n",
       "      <td>0</td>\n",
       "      <td>0</td>\n",
       "      <td>0</td>\n",
       "      <td>0</td>\n",
       "      <td>0</td>\n",
       "      <td>0</td>\n",
       "    </tr>\n",
       "    <tr>\n",
       "      <th>2</th>\n",
       "      <td>20130</td>\n",
       "      <td>filipino</td>\n",
       "      <td>12</td>\n",
       "      <td>0</td>\n",
       "      <td>0</td>\n",
       "      <td>0</td>\n",
       "      <td>0</td>\n",
       "      <td>0</td>\n",
       "      <td>0</td>\n",
       "      <td>0</td>\n",
       "      <td>...</td>\n",
       "      <td>0</td>\n",
       "      <td>0</td>\n",
       "      <td>0</td>\n",
       "      <td>0</td>\n",
       "      <td>0</td>\n",
       "      <td>0</td>\n",
       "      <td>0</td>\n",
       "      <td>0</td>\n",
       "      <td>0</td>\n",
       "      <td>0</td>\n",
       "    </tr>\n",
       "    <tr>\n",
       "      <th>3</th>\n",
       "      <td>22213</td>\n",
       "      <td>indian</td>\n",
       "      <td>4</td>\n",
       "      <td>0</td>\n",
       "      <td>0</td>\n",
       "      <td>0</td>\n",
       "      <td>0</td>\n",
       "      <td>0</td>\n",
       "      <td>1</td>\n",
       "      <td>0</td>\n",
       "      <td>...</td>\n",
       "      <td>0</td>\n",
       "      <td>0</td>\n",
       "      <td>0</td>\n",
       "      <td>0</td>\n",
       "      <td>0</td>\n",
       "      <td>0</td>\n",
       "      <td>0</td>\n",
       "      <td>0</td>\n",
       "      <td>0</td>\n",
       "      <td>0</td>\n",
       "    </tr>\n",
       "    <tr>\n",
       "      <th>4</th>\n",
       "      <td>13162</td>\n",
       "      <td>indian</td>\n",
       "      <td>20</td>\n",
       "      <td>0</td>\n",
       "      <td>0</td>\n",
       "      <td>0</td>\n",
       "      <td>1</td>\n",
       "      <td>0</td>\n",
       "      <td>1</td>\n",
       "      <td>0</td>\n",
       "      <td>...</td>\n",
       "      <td>0</td>\n",
       "      <td>0</td>\n",
       "      <td>0</td>\n",
       "      <td>0</td>\n",
       "      <td>0</td>\n",
       "      <td>0</td>\n",
       "      <td>0</td>\n",
       "      <td>0</td>\n",
       "      <td>0</td>\n",
       "      <td>0</td>\n",
       "    </tr>\n",
       "  </tbody>\n",
       "</table>\n",
       "<p>5 rows × 1321 columns</p>\n",
       "</div>"
      ],
      "text/plain": [
       "      id      cuisine  ingredients  unsalted butter  pitted olives  \\\n",
       "0  10259        greek            9                0              0   \n",
       "1  25693  southern_us           11                0              0   \n",
       "2  20130     filipino           12                0              0   \n",
       "3  22213       indian            4                0              0   \n",
       "4  13162       indian           20                0              0   \n",
       "\n",
       "   orange blossom honey  oil  boneless pork loin  water  toasted sesame oil  \\\n",
       "0                     0    0                   0      0                   0   \n",
       "1                     0    0                   0      0                   0   \n",
       "2                     0    0                   0      0                   0   \n",
       "3                     0    0                   0      1                   0   \n",
       "4                     0    1                   0      1                   0   \n",
       "\n",
       "   ...  hot sauce  chickpea flour  smoked streaky bacon  fat free milk  \\\n",
       "0  ...          0               0                     0              0   \n",
       "1  ...          0               0                     0              0   \n",
       "2  ...          0               0                     0              0   \n",
       "3  ...          0               0                     0              0   \n",
       "4  ...          0               0                     0              0   \n",
       "\n",
       "   chinese rice wine  dry sherry  half & half  ice cubes  \\\n",
       "0                  0           0            0          0   \n",
       "1                  0           0            0          0   \n",
       "2                  0           0            0          0   \n",
       "3                  0           0            0          0   \n",
       "4                  0           0            0          0   \n",
       "\n",
       "   boneless skinless chicken breasts  shell-on shrimp  \n",
       "0                                  0                0  \n",
       "1                                  0                0  \n",
       "2                                  0                0  \n",
       "3                                  0                0  \n",
       "4                                  0                0  \n",
       "\n",
       "[5 rows x 1321 columns]"
      ]
     },
     "execution_count": 26,
     "metadata": {},
     "output_type": "execute_result"
    }
   ],
   "source": [
    "df.head()"
   ]
  },
  {
   "cell_type": "markdown",
   "metadata": {},
   "source": [
    "###  Задание 1.3.3\n",
    "\n",
    "Определите тип переменной *lst*, которую принимает на входе функция *find_ingr:*\n",
    "- строка\n",
    "- список\n",
    "- словарь\n",
    "- JSON "
   ]
  },
  {
   "cell_type": "markdown",
   "metadata": {},
   "source": [
    "###  Задание 1.3.4\n",
    "\n",
    "Отметьте верные утверждения о переменной *ingr*, которая используется в коде функции *find_ingr:*\n",
    "- в переменной хранится название какого-либо ингредиента \n",
    "- в переменной хранится название ингредиента, входящего в состав рецепта для приготовления текущего блюда\n",
    "- значение переменной устанавливается за пределами функции \n",
    "- значение переменной не меняется при выполнении функции "
   ]
  },
  {
   "cell_type": "markdown",
   "metadata": {},
   "source": [
    "###  Задание 1.3.5\n",
    "\n",
    "Причина, по которой мы сначала заполнили столбцы с данными о наличии или отсутствии каждого ингредиента, а после этого заполнили столбец данными о количестве ингредиентов в рецепте:\n",
    "\n",
    "- Это был случайный выбор. На самом деле порядок выполнения этих действий не влияет на результат.\n",
    "- Столбцы датафрейма нужно заполнять в том порядке, в котором они расположены в датафрейме.\n",
    "- При заполнении столбцов с данными о наличии или отсутствии каждого ингредиента мы использовали информацию из столбца *ingredients*. Если бы мы заменили список, хранящийся в этом столбце изначально, на данные о количестве ингредиентов, мы бы потеряли информацию, необходимую для создания столбцов, посвящённых каждому ингредиенту в отдельности."
   ]
  },
  {
   "cell_type": "markdown",
   "metadata": {},
   "source": [
    "### Задание 1.3.6 \n",
    "\n",
    "Объедините все действия, начиная с чтения файла в JSON-формате (recipes.json) и заканчивая созданием итогового датафрейма, в единый код. Используйте множество (set) для хранения названий ингредиентов блюд. Полученный в результате работы кода датафрейм должен иметь имя *df*."
   ]
  },
  {
   "cell_type": "code",
   "execution_count": 27,
   "metadata": {},
   "outputs": [],
   "source": [
    "# Ваш код здесь\n",
    "\n"
   ]
  },
  {
   "cell_type": "markdown",
   "metadata": {},
   "source": [
    "### Сохраняем датафрейм в CSV-файле"
   ]
  },
  {
   "cell_type": "code",
   "execution_count": 28,
   "metadata": {},
   "outputs": [],
   "source": [
    "df.to_csv('recipes.csv', index = False)"
   ]
  },
  {
   "cell_type": "markdown",
   "metadata": {},
   "source": [
    "## 1.4. Создание JSON-файла\n",
    "\n",
    "### Из Pandas в JSON\n",
    "\n",
    "В завершающей части этого блока мы решим обратную задачу и создадим JSON-файл из CSV-файла, который получили в конце предыдущего этапа. "
   ]
  },
  {
   "cell_type": "code",
   "execution_count": 29,
   "metadata": {},
   "outputs": [],
   "source": [
    "df=pd.read_csv('recipes.csv')"
   ]
  },
  {
   "cell_type": "markdown",
   "metadata": {},
   "source": [
    "Теперь, используя только данные из этого файла, нам нужно в точности воссоздать структуру исходного JSON-файла. Начнём с создания списка, содержащего перечень ингредиентов, встречающихся в рецептах, а также списка, содержащего перечень *id* всех блюд."
   ]
  },
  {
   "cell_type": "code",
   "execution_count": 30,
   "metadata": {},
   "outputs": [
    {
     "data": {
      "text/html": [
       "<div>\n",
       "<style scoped>\n",
       "    .dataframe tbody tr th:only-of-type {\n",
       "        vertical-align: middle;\n",
       "    }\n",
       "\n",
       "    .dataframe tbody tr th {\n",
       "        vertical-align: top;\n",
       "    }\n",
       "\n",
       "    .dataframe thead th {\n",
       "        text-align: right;\n",
       "    }\n",
       "</style>\n",
       "<table border=\"1\" class=\"dataframe\">\n",
       "  <thead>\n",
       "    <tr style=\"text-align: right;\">\n",
       "      <th></th>\n",
       "      <th>id</th>\n",
       "      <th>cuisine</th>\n",
       "      <th>ingredients</th>\n",
       "      <th>unsalted butter</th>\n",
       "      <th>pitted olives</th>\n",
       "      <th>orange blossom honey</th>\n",
       "      <th>oil</th>\n",
       "      <th>boneless pork loin</th>\n",
       "      <th>water</th>\n",
       "      <th>toasted sesame oil</th>\n",
       "      <th>...</th>\n",
       "      <th>hot sauce</th>\n",
       "      <th>chickpea flour</th>\n",
       "      <th>smoked streaky bacon</th>\n",
       "      <th>fat free milk</th>\n",
       "      <th>chinese rice wine</th>\n",
       "      <th>dry sherry</th>\n",
       "      <th>half &amp; half</th>\n",
       "      <th>ice cubes</th>\n",
       "      <th>boneless skinless chicken breasts</th>\n",
       "      <th>shell-on shrimp</th>\n",
       "    </tr>\n",
       "  </thead>\n",
       "  <tbody>\n",
       "    <tr>\n",
       "      <th>0</th>\n",
       "      <td>10259</td>\n",
       "      <td>greek</td>\n",
       "      <td>9</td>\n",
       "      <td>0</td>\n",
       "      <td>0</td>\n",
       "      <td>0</td>\n",
       "      <td>0</td>\n",
       "      <td>0</td>\n",
       "      <td>0</td>\n",
       "      <td>0</td>\n",
       "      <td>...</td>\n",
       "      <td>0</td>\n",
       "      <td>0</td>\n",
       "      <td>0</td>\n",
       "      <td>0</td>\n",
       "      <td>0</td>\n",
       "      <td>0</td>\n",
       "      <td>0</td>\n",
       "      <td>0</td>\n",
       "      <td>0</td>\n",
       "      <td>0</td>\n",
       "    </tr>\n",
       "    <tr>\n",
       "      <th>1</th>\n",
       "      <td>25693</td>\n",
       "      <td>southern_us</td>\n",
       "      <td>11</td>\n",
       "      <td>0</td>\n",
       "      <td>0</td>\n",
       "      <td>0</td>\n",
       "      <td>0</td>\n",
       "      <td>0</td>\n",
       "      <td>0</td>\n",
       "      <td>0</td>\n",
       "      <td>...</td>\n",
       "      <td>0</td>\n",
       "      <td>0</td>\n",
       "      <td>0</td>\n",
       "      <td>0</td>\n",
       "      <td>0</td>\n",
       "      <td>0</td>\n",
       "      <td>0</td>\n",
       "      <td>0</td>\n",
       "      <td>0</td>\n",
       "      <td>0</td>\n",
       "    </tr>\n",
       "    <tr>\n",
       "      <th>2</th>\n",
       "      <td>20130</td>\n",
       "      <td>filipino</td>\n",
       "      <td>12</td>\n",
       "      <td>0</td>\n",
       "      <td>0</td>\n",
       "      <td>0</td>\n",
       "      <td>0</td>\n",
       "      <td>0</td>\n",
       "      <td>0</td>\n",
       "      <td>0</td>\n",
       "      <td>...</td>\n",
       "      <td>0</td>\n",
       "      <td>0</td>\n",
       "      <td>0</td>\n",
       "      <td>0</td>\n",
       "      <td>0</td>\n",
       "      <td>0</td>\n",
       "      <td>0</td>\n",
       "      <td>0</td>\n",
       "      <td>0</td>\n",
       "      <td>0</td>\n",
       "    </tr>\n",
       "    <tr>\n",
       "      <th>3</th>\n",
       "      <td>22213</td>\n",
       "      <td>indian</td>\n",
       "      <td>4</td>\n",
       "      <td>0</td>\n",
       "      <td>0</td>\n",
       "      <td>0</td>\n",
       "      <td>0</td>\n",
       "      <td>0</td>\n",
       "      <td>1</td>\n",
       "      <td>0</td>\n",
       "      <td>...</td>\n",
       "      <td>0</td>\n",
       "      <td>0</td>\n",
       "      <td>0</td>\n",
       "      <td>0</td>\n",
       "      <td>0</td>\n",
       "      <td>0</td>\n",
       "      <td>0</td>\n",
       "      <td>0</td>\n",
       "      <td>0</td>\n",
       "      <td>0</td>\n",
       "    </tr>\n",
       "    <tr>\n",
       "      <th>4</th>\n",
       "      <td>13162</td>\n",
       "      <td>indian</td>\n",
       "      <td>20</td>\n",
       "      <td>0</td>\n",
       "      <td>0</td>\n",
       "      <td>0</td>\n",
       "      <td>1</td>\n",
       "      <td>0</td>\n",
       "      <td>1</td>\n",
       "      <td>0</td>\n",
       "      <td>...</td>\n",
       "      <td>0</td>\n",
       "      <td>0</td>\n",
       "      <td>0</td>\n",
       "      <td>0</td>\n",
       "      <td>0</td>\n",
       "      <td>0</td>\n",
       "      <td>0</td>\n",
       "      <td>0</td>\n",
       "      <td>0</td>\n",
       "      <td>0</td>\n",
       "    </tr>\n",
       "  </tbody>\n",
       "</table>\n",
       "<p>5 rows × 1321 columns</p>\n",
       "</div>"
      ],
      "text/plain": [
       "      id      cuisine  ingredients  unsalted butter  pitted olives  \\\n",
       "0  10259        greek            9                0              0   \n",
       "1  25693  southern_us           11                0              0   \n",
       "2  20130     filipino           12                0              0   \n",
       "3  22213       indian            4                0              0   \n",
       "4  13162       indian           20                0              0   \n",
       "\n",
       "   orange blossom honey  oil  boneless pork loin  water  toasted sesame oil  \\\n",
       "0                     0    0                   0      0                   0   \n",
       "1                     0    0                   0      0                   0   \n",
       "2                     0    0                   0      0                   0   \n",
       "3                     0    0                   0      1                   0   \n",
       "4                     0    1                   0      1                   0   \n",
       "\n",
       "   ...  hot sauce  chickpea flour  smoked streaky bacon  fat free milk  \\\n",
       "0  ...          0               0                     0              0   \n",
       "1  ...          0               0                     0              0   \n",
       "2  ...          0               0                     0              0   \n",
       "3  ...          0               0                     0              0   \n",
       "4  ...          0               0                     0              0   \n",
       "\n",
       "   chinese rice wine  dry sherry  half & half  ice cubes  \\\n",
       "0                  0           0            0          0   \n",
       "1                  0           0            0          0   \n",
       "2                  0           0            0          0   \n",
       "3                  0           0            0          0   \n",
       "4                  0           0            0          0   \n",
       "\n",
       "   boneless skinless chicken breasts  shell-on shrimp  \n",
       "0                                  0                0  \n",
       "1                                  0                0  \n",
       "2                                  0                0  \n",
       "3                                  0                0  \n",
       "4                                  0                0  \n",
       "\n",
       "[5 rows x 1321 columns]"
      ]
     },
     "execution_count": 30,
     "metadata": {},
     "output_type": "execute_result"
    }
   ],
   "source": [
    "df.head()"
   ]
  },
  {
   "cell_type": "markdown",
   "metadata": {},
   "source": [
    "### Задание 1.4.1\n",
    "\n",
    "Напишите код для создания списка *id* всех блюд, представленных в датафрейме.\n",
    "\n",
    "Обратите внимание на следующие моменты:\n",
    "\n",
    "1. Тип структуры, в которой должны храниться id блюд - список (list).\n",
    "2. Имя переменной, в которой будет храниться список - *ids*.\n",
    "3. Порядок *id* в списке не имеет значения.\n",
    "4. Код должен начинаться с чтения файла *recipes.csv*\n"
   ]
  },
  {
   "cell_type": "code",
   "execution_count": 13,
   "metadata": {},
   "outputs": [],
   "source": [
    "# Ваш код здесь\n",
    "\n"
   ]
  },
  {
   "cell_type": "markdown",
   "metadata": {},
   "source": [
    "###  Задание 1.4.2\n",
    "\n",
    "Напишите код для создания списка ингредиентов всех блюд, представленных в датафрейме.\n",
    "\n",
    "Обратите внимание на следующие моменты:\n",
    "\n",
    "1. Тип структуры, в которой должны храниться названия ингредиентов блюд, — список (list).\n",
    "2. Имя переменной, в которой будет храниться список, — *ingredients*.\n",
    "3. Порядок ингредиентов в списке не имеет значения.\n",
    "4. Код должен начинаться с чтения файла *recipes.csv*\n",
    "\n",
    "Подсказка: поскольку названия ингредиентов используются как названия столбцов датафрейма, вы можете воспользоваться командой *df.columns* для получения перечня всех названий столбцов, после чего превратить перечень в список и извлечь из него нужные данные.\n"
   ]
  },
  {
   "cell_type": "code",
   "execution_count": 14,
   "metadata": {},
   "outputs": [],
   "source": [
    "# Ваш код здесь\n",
    "\n"
   ]
  },
  {
   "cell_type": "markdown",
   "metadata": {},
   "source": [
    "### Сохранение итоговой структуры\n",
    "\n",
    "Как вы помните, после десериализации JSON-файла мы получили структуру, представляющую собой список, состоящий из словарей. Каждый словарь состоял из трёх пар \"ключ-значение\", при этом в качестве значений выступали целое число (id), строковая величина (тип кухни) и список строковых величин (перечень ингредиентов). Сейчас нам предстоит воссоздать эту структуру, извлекая данные из датафрейма. Для хранения итоговой структуры создадим пустой список *new_recipes*. Также создадим списки для хранения *id* всех блюд и названий всех ингредиентов с помощью кода из упражнений 1.4.1 и 1.4.2:"
   ]
  },
  {
   "cell_type": "code",
   "execution_count": 33,
   "metadata": {},
   "outputs": [],
   "source": [
    "new_recipes=[]\n",
    "ids=list(df['id'])\n",
    "ingredients=list(df.columns)[3:]"
   ]
  },
  {
   "cell_type": "markdown",
   "metadata": {},
   "source": [
    "Стратегия действий:\n",
    "1. Организуем цикл с параметром, в котором будем перебирать элементы списка *ids*. В результате в процессе прохождения цикла параметр постепенно примет значение *id* каждого блюда.\n",
    "2. На каждом шаге цикла создадим словарь, содержащий три пары \"ключ-значение\". Ключу \"id\" мы присвоим значение параметра цикла, ключу \"cuisine\" — значение соответствующей кухни, которое мы получим, применив фильтр по *id* к датафрейму *df*.\n",
    "3. Для заполнения значения (списка) по ключу \"ingredients\" воспользуемся функцией, код которой обсудим чуть позже. Каждый созданный словарь мы будем добавлять к списку *new_recipes:*\n",
    "```\n",
    "for current_id in ids:\n",
    "    cuisine=df[df['id']==current_id]['cuisine'].iloc[0]\n",
    "    current_ingredients=make_list(df[df['id']==current_id])\n",
    "    current_recipe={'cuisine':cuisine, 'id':current_id, 'ingredients':current_ingredients}\n",
    "    new_recipes.append(current_recipe)\n",
    "```"
   ]
  },
  {
   "cell_type": "markdown",
   "metadata": {},
   "source": [
    "<p style=\"font-size:130%\"> Задание 1.4.3</p>\n",
    "\n",
    "Напишите код функции *make_list()*, которая принимает строку датафрейма *df*, содержащую данные об одном рецепте, и возвращает перечень ингредиентов этого блюда в виде списка.\n",
    "\n",
    "Обратите внимание на следующие моменты:\n",
    "\n",
    "1. Тип структуры, котоую должна вернуть функция в результате работы, — список (list).\n",
    "2. В процессе работы функция должна обращаться к списку, в котором хранятся названия всех ингредиентов. Используйте имя переменной *ingredients* для списка.\n",
    "3. Добавьте код для чтения файла *recipes.csv* и создания списка *ingredients* перед кодом функции.\n",
    "4. Порядок ингредиентов в возвращаемом списке не имеет значения.\n"
   ]
  },
  {
   "cell_type": "code",
   "execution_count": 34,
   "metadata": {},
   "outputs": [],
   "source": [
    "# Ваш код здесь.\n",
    "\n"
   ]
  },
  {
   "cell_type": "markdown",
   "metadata": {},
   "source": [
    "Теперь все готово для создания словаря *new_recipes*"
   ]
  },
  {
   "cell_type": "code",
   "execution_count": 37,
   "metadata": {},
   "outputs": [],
   "source": [
    "for current_id in ids:\n",
    "    cuisine=df[df['id']==current_id]['cuisine'].iloc[0]\n",
    "    current_ingredients=make_list(df[df['id']==current_id])\n",
    "    current_recipe={'cuisine':cuisine, 'id':current_id, 'ingredients':current_ingredients}\n",
    "    new_recipes.append(current_recipe)"
   ]
  },
  {
   "cell_type": "markdown",
   "metadata": {},
   "source": [
    "В завершающей части данного блока мы выполним сериализацию списка *new_recipes* и запишем полученные данные в файл. Для сериализации мы будем использовать функцию *dumps()*, которой в качестве параметра передадим список *new_recipes*. Запись в файл осуществляется с помощью метода *write()*. Предварительно файл нужно будет открыть для записи с помощью функции *open* и параметра 'w':"
   ]
  },
  {
   "cell_type": "code",
   "execution_count": 38,
   "metadata": {},
   "outputs": [],
   "source": [
    "import json"
   ]
  },
  {
   "cell_type": "code",
   "execution_count": 39,
   "metadata": {
    "scrolled": true
   },
   "outputs": [],
   "source": [
    "with open(\"new_recipes.json\", \"w\") as f:\n",
    "    json.dump(new_recipes, f)"
   ]
  }
 ],
 "metadata": {
  "kernelspec": {
   "display_name": "Python 3 (ipykernel)",
   "language": "python",
   "name": "python3"
  },
  "language_info": {
   "codemirror_mode": {
    "name": "ipython",
    "version": 3
   },
   "file_extension": ".py",
   "mimetype": "text/x-python",
   "name": "python",
   "nbconvert_exporter": "python",
   "pygments_lexer": "ipython3",
   "version": "3.9.12"
  }
 },
 "nbformat": 4,
 "nbformat_minor": 4
}
